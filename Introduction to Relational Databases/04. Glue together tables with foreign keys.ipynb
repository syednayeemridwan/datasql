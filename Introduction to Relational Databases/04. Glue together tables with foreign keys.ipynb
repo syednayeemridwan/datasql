{
 "cells": [
  {
   "cell_type": "markdown",
   "metadata": {},
   "source": [
    "- Rename the university_shortname column to university_id in professors."
   ]
  },
  {
   "cell_type": "markdown",
   "metadata": {},
   "source": [
    "```\n",
    "-- Rename the university_shortname column\n",
    "ALTER TABLE professors\n",
    "RENAME COLUMN university_shortname TO university_id;\n",
    "```"
   ]
  },
  {
   "cell_type": "markdown",
   "metadata": {},
   "source": [
    "- Add a foreign key on university_id column in professors that references the id column in universities.\n",
    "- Name this foreign key professors_fkey."
   ]
  },
  {
   "cell_type": "markdown",
   "metadata": {},
   "source": [
    "```\n",
    "-- Add a foreign key on professors referencing universities\n",
    "ALTER TABLE professors\n",
    "ADD CONSTRAINT professors_fkey FOREIGN KEY (university_id) REFERENCES universities (id);\n",
    "```"
   ]
  },
  {
   "cell_type": "markdown",
   "metadata": {},
   "source": [
    "- Run the sample code and have a look at the error message.\n",
    "- What's wrong? Correct the university_id so that it actually reflects where Albert Einstein wrote his dissertation and became a professor – at the University of Zurich (UZH)!"
   ]
  },
  {
   "cell_type": "markdown",
   "metadata": {},
   "source": [
    "```\n",
    "-- Try to insert a new professor\n",
    "INSERT INTO professors (firstname, lastname, university_id)\n",
    "VALUES ('Albert', 'Einstein', 'MIT');\n",
    "```"
   ]
  },
  {
   "cell_type": "markdown",
   "metadata": {},
   "source": [
    "```\n",
    "-- Try to insert a new professor\n",
    "INSERT INTO professors (firstname, lastname, university_id)\n",
    "VALUES ('Albert', 'Einstein', 'UZH');\n",
    "\n",
    "```"
   ]
  },
  {
   "cell_type": "markdown",
   "metadata": {},
   "source": [
    "- JOIN professors with universities on professors.university_id = universities.id, i.e., retain all records where the foreign key of professors is equal to the primary key of universities.\n",
    "- Filter for university_city = 'Zurich'."
   ]
  },
  {
   "cell_type": "markdown",
   "metadata": {},
   "source": [
    "```\n",
    "-- Select all professors working for universities in the city of Zurich\n",
    "SELECT \n",
    "    p.lastname, u.id, u.university_city\n",
    "FROM \n",
    "    professors AS p\n",
    "        JOIN \n",
    "    universities AS u\n",
    "        ON \n",
    "    p.university_id = u.id\n",
    "WHERE \n",
    "    u.university_city = 'Zurich';\n",
    "```"
   ]
  },
  {
   "cell_type": "markdown",
   "metadata": {},
   "source": [
    "- Add a professor_id column with integer data type to affiliations, and declare it to be a foreign key that references the id column in professors."
   ]
  },
  {
   "cell_type": "markdown",
   "metadata": {},
   "source": [
    "```\n",
    "-- Add a professor_id column\n",
    "ALTER TABLE affiliations\n",
    "ADD COLUMN professor_id INTEGER REFERENCES professors (id);\n",
    "```"
   ]
  },
  {
   "cell_type": "markdown",
   "metadata": {},
   "source": [
    "- Rename the organization column in affiliations to organization_id."
   ]
  },
  {
   "cell_type": "markdown",
   "metadata": {},
   "source": [
    "```\n",
    "-- Rename the organization column to organization_id\n",
    "ALTER TABLE affiliations\n",
    "RENAME COLUMN organization TO organization_id;\n",
    "```"
   ]
  },
  {
   "cell_type": "markdown",
   "metadata": {},
   "source": [
    "- Add a foreign key constraint on organization_id so that it references the id column in organizations."
   ]
  },
  {
   "cell_type": "markdown",
   "metadata": {},
   "source": [
    "```\n",
    "-- Add a foreign key on organization_id\n",
    "ALTER TABLE affiliations\n",
    "ADD CONSTRAINT affiliations_organization_fkey FOREIGN KEY (organization_id) REFERENCES organizations (id);\n",
    "```"
   ]
  },
  {
   "cell_type": "markdown",
   "metadata": {},
   "source": [
    "- First, have a look at the current state of affiliations by fetching 10 rows and all columns."
   ]
  },
  {
   "cell_type": "markdown",
   "metadata": {},
   "source": [
    "```\n",
    "-- Have a look at the 10 first rows of affiliations\n",
    "SELECT \n",
    "    *\n",
    "FROM\n",
    "    affiliations\n",
    "LIMIT 10;\n",
    "```"
   ]
  },
  {
   "cell_type": "markdown",
   "metadata": {},
   "source": [
    "- Update the professor_id column with the corresponding value of the id column in professors.\n",
    "- \"Corresponding\" means rows in professors where the firstname and lastname are identical to the ones in affiliations.\n",
    "- Update one table's column from another table's column"
   ]
  },
  {
   "cell_type": "markdown",
   "metadata": {},
   "source": [
    "```\n",
    "-- Set professor_id to professors.id where firstname, lastname correspond to rows in professors\n",
    "UPDATE affiliations\n",
    "SET professor_id = professors.id\n",
    "FROM professors\n",
    "WHERE affiliations.firstname = professors.firstname AND affiliations.lastname = professors.lastname;\n",
    "```"
   ]
  },
  {
   "cell_type": "markdown",
   "metadata": {},
   "source": [
    "- Check out the first 10 rows and all columns of affiliations again. Have the professor_ids been correctly matched?"
   ]
  },
  {
   "cell_type": "markdown",
   "metadata": {},
   "source": [
    "```\n",
    "-- Update professor_id to professors.id where firstname, lastname correspond to rows in professors\n",
    "UPDATE affiliations\n",
    "SET professor_id = professors.id\n",
    "FROM professors\n",
    "WHERE affiliations.firstname = professors.firstname AND affiliations.lastname = professors.lastname;\n",
    "\n",
    "-- Have a look at the 10 first rows of affiliations again\n",
    "SELECT *\n",
    "FROM affiliations\n",
    "LIMIT 10;\n",
    "```"
   ]
  },
  {
   "cell_type": "markdown",
   "metadata": {},
   "source": [
    "- Drop the firstname and lastname columns from the affiliations table."
   ]
  },
  {
   "cell_type": "markdown",
   "metadata": {},
   "source": [
    "```\n",
    "-- Drop the firstname column\n",
    "ALTER TABLE affiliations\n",
    "DROP COLUMN firstname;\n",
    "\n",
    "-- Drop the lastname column\n",
    "ALTER TABLE affiliations\n",
    "DROP COLUMN lastname;\n",
    "```"
   ]
  },
  {
   "cell_type": "markdown",
   "metadata": {},
   "source": [
    "What does this mean? \n",
    "```\n",
    "update or delete on table \"universities\" violates foreign key constraint \"professors_fkey\" on table \"professors\"\n",
    "```\n",
    "- It fails because referential integrity from professors to universities is violated.\n",
    "- If you defined a foreign key on professors.university_id that references universities.id, so referential integrity is said to hold from professors to universities"
   ]
  },
  {
   "cell_type": "markdown",
   "metadata": {},
   "source": [
    "- Have a look at the existing foreign key constraints by querying table_constraints in information_schema."
   ]
  },
  {
   "cell_type": "markdown",
   "metadata": {},
   "source": [
    "```\n",
    "-- Identify the correct constraint name\n",
    "SELECT constraint_name, table_name, constraint_type\n",
    "FROM information_schema.table_constraints\n",
    "WHERE constraint_type = 'FOREIGN KEY';\n",
    "```"
   ]
  },
  {
   "cell_type": "markdown",
   "metadata": {},
   "source": [
    "- Delete the affiliations_organization_id_fkey foreign key constraint in affiliations."
   ]
  },
  {
   "cell_type": "markdown",
   "metadata": {},
   "source": [
    "```\n",
    "-- Drop the right foreign key constraint\n",
    "ALTER TABLE affiliations\n",
    "DROP CONSTRAINT affiliations_organization_id_fkey;\n",
    "```"
   ]
  },
  {
   "cell_type": "markdown",
   "metadata": {},
   "source": [
    "- Add a new foreign key to affiliations that CASCADEs deletion if a referenced record is deleted from organizations. Name it affiliations_organization_id_fkey."
   ]
  },
  {
   "cell_type": "markdown",
   "metadata": {},
   "source": [
    "```\n",
    "-- Add a new foreign key constraint from affiliations to organizations which cascades deletion\n",
    "ALTER TABLE affiliations\n",
    "ADD CONSTRAINT affiliations_organization_id_fkey FOREIGN KEY (organization_id) REFERENCES organizations (id) ON DELETE CASCADE;\n",
    "```"
   ]
  },
  {
   "cell_type": "markdown",
   "metadata": {},
   "source": [
    "- Run the DELETE and SELECT queries to double check that the deletion cascade actually works."
   ]
  },
  {
   "cell_type": "markdown",
   "metadata": {},
   "source": [
    "```\n",
    "-- Check that no more affiliations with this organization exist\n",
    "SELECT * FROM affiliations\n",
    "WHERE organization_id = 'CUREM';\n",
    "```"
   ]
  },
  {
   "cell_type": "markdown",
   "metadata": {},
   "source": [
    "- Count the number of total affiliations by university.\n",
    "- Sort the result by that count, in descending order."
   ]
  },
  {
   "cell_type": "markdown",
   "metadata": {},
   "source": [
    "```\n",
    "-- Count the total number of affiliations per university\n",
    "SELECT COUNT(*), professors.university_id \n",
    "FROM affiliations\n",
    "JOIN professors\n",
    "ON affiliations.professor_id = professors.id\n",
    "-- Group by the university ids of professors\n",
    "GROUP BY professors.university_id \n",
    "ORDER BY count DESC;\n",
    "```"
   ]
  },
  {
   "cell_type": "markdown",
   "metadata": {},
   "source": [
    "- Join all tables in the database (starting with affiliations, professors, organizations, and universities) and look at the result."
   ]
  },
  {
   "cell_type": "markdown",
   "metadata": {},
   "source": [
    "```\n",
    "-- Join all tables\n",
    "SELECT *\n",
    "FROM affiliations\n",
    "JOIN professors\n",
    "ON affiliations.professor_id = professors.id\n",
    "JOIN organizations\n",
    "ON affiliations.organization_id = organizations.id\n",
    "JOIN universities\n",
    "ON professors.university_id = universities.id;\n",
    "```"
   ]
  },
  {
   "cell_type": "markdown",
   "metadata": {},
   "source": [
    "- Now group the result by organization sector, professor, and university city.\n",
    "- Count the resulting number of rows."
   ]
  },
  {
   "cell_type": "markdown",
   "metadata": {},
   "source": [
    "```\n",
    "-- Group the table by organization sector, professor ID and university city\n",
    "SELECT COUNT(*), organizations.organization_sector, \n",
    "professors.id, universities.university_city\n",
    "FROM affiliations\n",
    "JOIN professors\n",
    "ON affiliations.professor_id = professors.id\n",
    "JOIN organizations\n",
    "ON affiliations.organization_id = organizations.id\n",
    "JOIN universities\n",
    "ON professors.university_id = universities.id\n",
    "GROUP BY organizations.organization_sector, \n",
    "professors.id, universities.university_city;\n",
    "```"
   ]
  },
  {
   "cell_type": "markdown",
   "metadata": {},
   "source": [
    "- Only retain rows with \"Media & communication\" as organization sector, and sort the table by count, in descending order."
   ]
  },
  {
   "cell_type": "markdown",
   "metadata": {},
   "source": [
    "```\n",
    "-- Filter the table and sort it\n",
    "SELECT COUNT(*), organizations.organization_sector, \n",
    "professors.id, universities.university_city\n",
    "FROM affiliations\n",
    "JOIN professors\n",
    "ON affiliations.professor_id = professors.id\n",
    "JOIN organizations\n",
    "ON affiliations.organization_id = organizations.id\n",
    "JOIN universities\n",
    "ON professors.university_id = universities.id\n",
    "WHERE organizations.organization_sector = 'Media & communication'\n",
    "GROUP BY organizations.organization_sector, \n",
    "professors.id, universities.university_city\n",
    "ORDER BY count DESC;\n",
    "```"
   ]
  }
 ],
 "metadata": {
  "interpreter": {
   "hash": "1e949e87132dd83f1a7623eb88007e3532b03b66b77111be347aa4a383049722"
  },
  "kernelspec": {
   "display_name": "Python 3.8.11 ('env_py')",
   "language": "python",
   "name": "python3"
  },
  "language_info": {
   "name": "python",
   "version": "3.8.11"
  },
  "orig_nbformat": 4
 },
 "nbformat": 4,
 "nbformat_minor": 2
}
