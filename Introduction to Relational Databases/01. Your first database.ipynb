{
 "cells": [
  {
   "cell_type": "markdown",
   "metadata": {},
   "source": [
    "Which of the following statements does hold true for databases? Relational databases\n",
    "\n",
    "- … store different real-world entities in different tables.\n",
    "- … allow to establish relationships between entities.\n",
    "- … use constraints, keys and referential integrity in order to assure data quality."
   ]
  },
  {
   "cell_type": "markdown",
   "metadata": {},
   "source": [
    "- Get information on all table names in the current database, while limiting your query to the 'public' table_schema."
   ]
  },
  {
   "cell_type": "markdown",
   "metadata": {},
   "source": [
    "```\n",
    "SELECT \n",
    "    table_name \n",
    "FROM \n",
    "    information_schema.tables\n",
    "WHERE table_schema = 'public';\n",
    "```"
   ]
  },
  {
   "cell_type": "markdown",
   "metadata": {},
   "source": [
    "- Now have a look at the columns in university_professors by selecting all entries in information_schema.columns that correspond to that table."
   ]
  },
  {
   "cell_type": "markdown",
   "metadata": {},
   "source": [
    "```\n",
    "SELECT \n",
    "    column_name, data_type \n",
    "FROM \n",
    "    information_schema.columns \n",
    "WHERE   table_name = 'university_professors' \n",
    "             AND \n",
    "        table_schema = 'public';\n",
    "```"
   ]
  },
  {
   "cell_type": "markdown",
   "metadata": {},
   "source": [
    "- Finally, print the first five rows of the university_professors table."
   ]
  },
  {
   "cell_type": "markdown",
   "metadata": {},
   "source": [
    "```\n",
    "SELECT * \n",
    "FROM \n",
    "    university_professors \n",
    "LIMIT 5;\n",
    "```"
   ]
  },
  {
   "cell_type": "markdown",
   "metadata": {},
   "source": [
    "- Create a table professors with two text columns: firstname and lastname."
   ]
  },
  {
   "cell_type": "markdown",
   "metadata": {},
   "source": [
    "```\n",
    "-- Create a table for the professors entity type\n",
    "CREATE TABLE professors (\n",
    " firstname text,\n",
    " lastname text\n",
    ");\n",
    "\n",
    "-- Print the contents of this table\n",
    "SELECT * \n",
    "FROM professors\n",
    "```"
   ]
  },
  {
   "cell_type": "markdown",
   "metadata": {},
   "source": [
    "- Create a table universities with three text columns: university_shortname, university, and university_city."
   ]
  },
  {
   "cell_type": "markdown",
   "metadata": {},
   "source": [
    "```\n",
    "-- Create a table for the universities entity type\n",
    "CREATE TABLE universities\n",
    "(\n",
    "    university_shortname text,\n",
    "    university text,\n",
    "    university_city text\n",
    ");\n",
    "\n",
    "\n",
    "-- Print the contents of this table\n",
    "SELECT * \n",
    "FROM universities\n",
    "\n",
    "```"
   ]
  },
  {
   "cell_type": "markdown",
   "metadata": {},
   "source": [
    "- Alter professors to add the text column university_shortname."
   ]
  },
  {
   "cell_type": "markdown",
   "metadata": {},
   "source": [
    "```\n",
    "-- Add the university_shortname column\n",
    "ALTER TABLE professors\n",
    "ADD COLUMN university_shortname text ;\n",
    "\n",
    "-- Print the contents of this table\n",
    "SELECT * \n",
    "FROM professors\n",
    "```"
   ]
  },
  {
   "cell_type": "markdown",
   "metadata": {},
   "source": [
    "- Rename the organisation column to organization in affiliations.\n",
    "- Delete the university_shortname column in affiliations."
   ]
  },
  {
   "cell_type": "markdown",
   "metadata": {},
   "source": [
    "```\n",
    "-- Rename the organisation column\n",
    "ALTER TABLE affiliations\n",
    "RENAME COLUMN organisation TO organization;\n",
    "\n",
    "-- Delete the university_shortname column\n",
    "ALTER TABLE affiliations\n",
    "DROP COLUMN university_shortname;\n",
    "```"
   ]
  },
  {
   "cell_type": "markdown",
   "metadata": {},
   "source": [
    "- Insert all DISTINCT professors from university_professors into professors.\n",
    "- Print all the rows in professors."
   ]
  },
  {
   "cell_type": "markdown",
   "metadata": {},
   "source": [
    "```\n",
    "-- Insert unique professors into the new table\n",
    "INSERT INTO professors \n",
    "SELECT DISTINCT firstname, lastname, university_shortname \n",
    "FROM university_professors;\n",
    "\n",
    "-- Doublecheck the contents of professors\n",
    "SELECT * \n",
    "FROM professors;\n",
    "```"
   ]
  },
  {
   "cell_type": "markdown",
   "metadata": {},
   "source": [
    "- Insert all DISTINCT affiliations into affiliations from university_professors."
   ]
  },
  {
   "cell_type": "markdown",
   "metadata": {},
   "source": [
    "```\n",
    "-- Insert unique affiliations into the new table\n",
    "INSERT INTO affiliations \n",
    "SELECT DISTINCT firstname, lastname, function, organization \n",
    "FROM university_professors;\n",
    "\n",
    "-- Doublecheck the contents of affiliations\n",
    "SELECT * \n",
    "FROM affiliations;\n",
    "```"
   ]
  },
  {
   "cell_type": "markdown",
   "metadata": {},
   "source": [
    "- Delete the university_professors table."
   ]
  },
  {
   "cell_type": "markdown",
   "metadata": {},
   "source": [
    "```\n",
    "-- Delete the university_professors table\n",
    "DROP TABLE university_professors;\n",
    "```"
   ]
  }
 ],
 "metadata": {
  "interpreter": {
   "hash": "1e949e87132dd83f1a7623eb88007e3532b03b66b77111be347aa4a383049722"
  },
  "kernelspec": {
   "display_name": "Python 3.8.11 ('env_py')",
   "language": "python",
   "name": "python3"
  },
  "language_info": {
   "name": "python",
   "version": "3.8.11"
  },
  "orig_nbformat": 4
 },
 "nbformat": 4,
 "nbformat_minor": 2
}
