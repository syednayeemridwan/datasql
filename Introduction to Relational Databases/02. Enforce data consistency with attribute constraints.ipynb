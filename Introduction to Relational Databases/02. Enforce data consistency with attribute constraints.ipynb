{
 "cells": [
  {
   "cell_type": "markdown",
   "metadata": {},
   "source": [
    "Which of the following is used to enforce a database constraint?\n",
    "- Foreign keys\n",
    "- The BIGINT data type\n",
    "- Primary keys"
   ]
  },
  {
   "cell_type": "markdown",
   "metadata": {},
   "source": [
    "- Execute the given sample code.\n",
    "- As it doesn't work, have a look at the error message and correct the statement accordingly – then execute it again."
   ]
  },
  {
   "cell_type": "markdown",
   "metadata": {},
   "source": [
    "```\n",
    "-- Let's add a record to the table\n",
    "INSERT INTO transactions (transaction_date, amount, fee) \n",
    "VALUES ('2018-09-24', 5454, '30');\n",
    "\n",
    "-- Doublecheck the contents\n",
    "SELECT *\n",
    "FROM transactions;\n",
    "```"
   ]
  },
  {
   "cell_type": "markdown",
   "metadata": {},
   "source": [
    "- Execute the given sample code.\n",
    "- As it doesn't work, add an integer type cast at the right place and execute it again."
   ]
  },
  {
   "cell_type": "markdown",
   "metadata": {},
   "source": [
    "```\n",
    "-- Calculate the net amount as amount + fee\n",
    "SELECT transaction_date, amount + CAST(fee AS INTEGER) AS net_amount \n",
    "FROM transactions;\n",
    "```"
   ]
  },
  {
   "cell_type": "markdown",
   "metadata": {},
   "source": [
    "- Have a look at the distinct university_shortname values in the professors table and take note of the length of the strings."
   ]
  },
  {
   "cell_type": "markdown",
   "metadata": {},
   "source": [
    "```\n",
    "-- Select the university_shortname column\n",
    "SELECT DISTINCT(university_shortname) \n",
    "FROM professors;\n",
    "```"
   ]
  },
  {
   "cell_type": "markdown",
   "metadata": {},
   "source": [
    "- Now specify a fixed-length character type with the correct length for university_shortname."
   ]
  },
  {
   "cell_type": "markdown",
   "metadata": {},
   "source": [
    "```\n",
    "-- Specify the correct fixed-length character type\n",
    "ALTER TABLE professors\n",
    "ALTER COLUMN university_shortname\n",
    "TYPE CHAR(3);\n",
    "```"
   ]
  },
  {
   "cell_type": "markdown",
   "metadata": {},
   "source": [
    "- Change the type of the firstname column to varchar(64)."
   ]
  },
  {
   "cell_type": "markdown",
   "metadata": {},
   "source": [
    "```\n",
    "-- Change the type of firstname\n",
    "ALTER TABLE professors\n",
    "ALTER COLUMN firstname\n",
    "TYPE VARCHAR(64);\n",
    "```"
   ]
  },
  {
   "cell_type": "markdown",
   "metadata": {},
   "source": [
    "- Run the sample code as is and take note of the error.\n",
    "- Now use SUBSTRING() to reduce firstname to 16 characters so its type can be altered to varchar(16)."
   ]
  },
  {
   "cell_type": "markdown",
   "metadata": {},
   "source": [
    "```\n",
    "-- Convert the values in firstname to a max. of 16 characters\n",
    "ALTER TABLE professors \n",
    "ALTER COLUMN firstname \n",
    "TYPE varchar(16)\n",
    "USING SUBSTRING(firstname FROM 1 FOR 16)\n",
    "```"
   ]
  },
  {
   "cell_type": "markdown",
   "metadata": {},
   "source": [
    "- Add a not-null constraint for the firstname column."
   ]
  },
  {
   "cell_type": "markdown",
   "metadata": {},
   "source": [
    "```\n",
    "-- Disallow NULL values in firstname\n",
    "ALTER TABLE professors \n",
    "ALTER COLUMN firstname SET NOT NULL;\n",
    "```"
   ]
  },
  {
   "cell_type": "markdown",
   "metadata": {},
   "source": [
    "- Add a not-null constraint for the lastname column."
   ]
  },
  {
   "cell_type": "markdown",
   "metadata": {},
   "source": [
    "```\n",
    "-- Disallow NULL values in lastname\n",
    "ALTER TABLE professors\n",
    "ALTER COLUMN lastname\n",
    "SET NOT NULL\n",
    "```"
   ]
  },
  {
   "cell_type": "markdown",
   "metadata": {},
   "source": [
    "- Add a unique constraint to the university_shortname column in universities. Give it the name university_shortname_unq."
   ]
  },
  {
   "cell_type": "markdown",
   "metadata": {},
   "source": [
    "```\n",
    "-- Make universities.university_shortname unique\n",
    "ALTER TABLE universities\n",
    "ADD CONSTRAINT university_shortname_unq UNIQUE(university_shortname);\n",
    "```"
   ]
  },
  {
   "cell_type": "markdown",
   "metadata": {},
   "source": [
    "- Add a unique constraint to the organization column in organizations. Give it the name organization_unq."
   ]
  },
  {
   "cell_type": "markdown",
   "metadata": {},
   "source": [
    "```\n",
    "-- Make organizations.organization unique\n",
    "ALTER TABLE organizations\n",
    "ADD CONSTRAINT organization_unq UNIQUE(organization)\n",
    "```"
   ]
  }
 ],
 "metadata": {
  "interpreter": {
   "hash": "1e949e87132dd83f1a7623eb88007e3532b03b66b77111be347aa4a383049722"
  },
  "kernelspec": {
   "display_name": "Python 3.8.11 ('env_py')",
   "language": "python",
   "name": "python3"
  },
  "language_info": {
   "name": "python",
   "version": "3.8.11"
  },
  "orig_nbformat": 4
 },
 "nbformat": 4,
 "nbformat_minor": 2
}
