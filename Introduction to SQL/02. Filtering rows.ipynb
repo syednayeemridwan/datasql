{
 "cells": [
  {
   "cell_type": "markdown",
   "metadata": {},
   "source": [
    "- Get all details for all films released in 2016."
   ]
  },
  {
   "cell_type": "markdown",
   "metadata": {},
   "source": [
    "```\n",
    "SELECT\n",
    "    *\n",
    "FROM\n",
    "    films\n",
    "WHERE\n",
    "    release_year = 2016\n",
    "```"
   ]
  },
  {
   "cell_type": "markdown",
   "metadata": {},
   "source": [
    "- Get the number of films released before 2000."
   ]
  },
  {
   "cell_type": "markdown",
   "metadata": {},
   "source": [
    "```\n",
    "SELECT\n",
    "    COUNT(*)\n",
    "FROM\n",
    "    films\n",
    "WHERE\n",
    "    release_year < 2000\n",
    "```"
   ]
  },
  {
   "cell_type": "markdown",
   "metadata": {},
   "source": [
    "- Get the title and release year of films released after 2000."
   ]
  },
  {
   "cell_type": "markdown",
   "metadata": {},
   "source": [
    "```\n",
    "SELECT\n",
    "    title, release_year\n",
    "FROM\n",
    "    films\n",
    "WHERE\n",
    "    release_year > 2000\n",
    "```"
   ]
  },
  {
   "cell_type": "markdown",
   "metadata": {},
   "source": [
    "- Get all details for all French language films.\n",
    "- Only single quote is used in SQL"
   ]
  },
  {
   "cell_type": "markdown",
   "metadata": {},
   "source": [
    "```\n",
    "SELECT\n",
    "    *\n",
    "FROM\n",
    "    films\n",
    "WHERE\n",
    "    language = 'French'\n",
    "```"
   ]
  },
  {
   "cell_type": "markdown",
   "metadata": {},
   "source": [
    "- Get the name and birth date of the person born on November 11th, 1974. Remember to use ISO date format ('1974-11-11')!"
   ]
  },
  {
   "cell_type": "markdown",
   "metadata": {},
   "source": [
    "```\n",
    "SELECT\n",
    "    name, birthdate\n",
    "FROM\n",
    "    people\n",
    "WHERE\n",
    "    birthdate = '1974-11-11'\n",
    "\n",
    "```"
   ]
  },
  {
   "cell_type": "markdown",
   "metadata": {},
   "source": [
    "- Get the number of Hindi language films."
   ]
  },
  {
   "cell_type": "markdown",
   "metadata": {},
   "source": [
    "```\n",
    "SELECT\n",
    "    COUNT(*)\n",
    "FROM\n",
    "    films\n",
    "WHERE\n",
    "    language = 'Hindi'\n",
    "```"
   ]
  },
  {
   "cell_type": "markdown",
   "metadata": {},
   "source": [
    "- Get all details for all films with an R certification."
   ]
  },
  {
   "cell_type": "markdown",
   "metadata": {},
   "source": [
    "```\n",
    "SELECT\n",
    "    *\n",
    "FROM\n",
    "    films\n",
    "WHERE\n",
    "    certification = 'R'\n",
    "```"
   ]
  },
  {
   "cell_type": "markdown",
   "metadata": {},
   "source": [
    "- Get the title and release year for all Spanish language films released before 2000."
   ]
  },
  {
   "cell_type": "markdown",
   "metadata": {},
   "source": [
    "```\n",
    "SELECT\n",
    "    title, release_year\n",
    "FROM\n",
    "    films\n",
    "WHERE\n",
    "    release_year < 2000\n",
    "        AND\n",
    "    language = 'Spanish'\n",
    "```"
   ]
  },
  {
   "cell_type": "markdown",
   "metadata": {},
   "source": [
    "- Get all details for Spanish language films released after 2000."
   ]
  },
  {
   "cell_type": "markdown",
   "metadata": {},
   "source": [
    "```\n",
    "SELECT\n",
    "    *\n",
    "FROM\n",
    "    films\n",
    "WHERE\n",
    "    release_year > 2000\n",
    "        AND\n",
    "    language = 'Spanish'\n",
    "```"
   ]
  },
  {
   "cell_type": "markdown",
   "metadata": {},
   "source": [
    "- Get all details for Spanish language films released after 2000, but before 2010."
   ]
  },
  {
   "cell_type": "markdown",
   "metadata": {},
   "source": [
    "```\n",
    "SELECT\n",
    "    *\n",
    "FROM\n",
    "    films\n",
    "WHERE\n",
    "    language = 'Spanish'\n",
    "        AND    \n",
    "    release_year > 2000 AND release_year < 2010\n",
    "```"
   ]
  },
  {
   "cell_type": "markdown",
   "metadata": {},
   "source": [
    "- Get the title and release year for films released in the 90s."
   ]
  },
  {
   "cell_type": "markdown",
   "metadata": {},
   "source": [
    "```\n",
    "SELECT\n",
    "    title, release_year\n",
    "FROM\n",
    "    films\n",
    "WHERE\n",
    "    release_year >= 1990 AND release_year < 2000\n",
    "```"
   ]
  },
  {
   "cell_type": "markdown",
   "metadata": {},
   "source": [
    "- Now, build on your query to filter the records to only include French or Spanish language films"
   ]
  },
  {
   "cell_type": "markdown",
   "metadata": {},
   "source": [
    "```\n",
    "SELECT \n",
    "    title, release_year\n",
    "FROM \n",
    "    films\n",
    "WHERE \n",
    "    (release_year >= 1990 AND release_year < 2000)\n",
    "        AND\n",
    "    (language = 'French' OR language = 'Spanish')\n",
    "```"
   ]
  },
  {
   "cell_type": "markdown",
   "metadata": {},
   "source": [
    "- Finally, restrict the query to only return films that took in more than $2M gross."
   ]
  },
  {
   "cell_type": "markdown",
   "metadata": {},
   "source": [
    "```\n",
    "SELECT \n",
    "    title, release_year\n",
    "FROM \n",
    "    films\n",
    "WHERE \n",
    "    (release_year >= 1990 AND release_year < 2000)\n",
    "        AND \n",
    "    (language = 'French' OR language = 'Spanish')\n",
    "        AND \n",
    "    gross > 2000000\n",
    "```"
   ]
  },
  {
   "cell_type": "markdown",
   "metadata": {},
   "source": [
    "- Get the title and release year of all films released between 1990 and 2000 (inclusive)."
   ]
  },
  {
   "cell_type": "markdown",
   "metadata": {},
   "source": [
    "```\n",
    "SELECT\n",
    "    title, release_year\n",
    "FROM\n",
    "    films\n",
    "WHERE\n",
    "    release_year BETWEEN 1990 AND 2000\n",
    "```"
   ]
  },
  {
   "cell_type": "markdown",
   "metadata": {},
   "source": [
    "- Now, build on your previous query to select only films that have budgets over $100 million."
   ]
  },
  {
   "cell_type": "markdown",
   "metadata": {},
   "source": [
    "```\n",
    "SELECT \n",
    "    title, release_year\n",
    "FROM \n",
    "    films\n",
    "WHERE \n",
    "    release_year BETWEEN 1990 AND 2000\n",
    "        AND \n",
    "    budget > 100000000\n",
    "```"
   ]
  },
  {
   "cell_type": "markdown",
   "metadata": {},
   "source": [
    "- Now restrict the query to only return Spanish language films."
   ]
  },
  {
   "cell_type": "markdown",
   "metadata": {},
   "source": [
    "```\n",
    "SELECT \n",
    "    title, release_year\n",
    "FROM \n",
    "    films\n",
    "WHERE \n",
    "    release_year BETWEEN 1990 AND 2000\n",
    "        AND \n",
    "    budget > 100000000\n",
    "        AND \n",
    "    language = 'Spanish'\n",
    "```"
   ]
  },
  {
   "cell_type": "markdown",
   "metadata": {},
   "source": [
    "- Finally, modify to your previous query to include all Spanish language or French language films with the same criteria as before. Don't forget your parentheses!"
   ]
  },
  {
   "cell_type": "markdown",
   "metadata": {},
   "source": [
    "```\n",
    "SELECT \n",
    "    title, release_year\n",
    "FROM \n",
    "    films\n",
    "WHERE \n",
    "    release_year BETWEEN 1990 AND 2000\n",
    "        AND \n",
    "    budget > 100000000\n",
    "        AND \n",
    "    (language = 'Spanish' OR language = 'French');\n",
    "```"
   ]
  },
  {
   "cell_type": "markdown",
   "metadata": {},
   "source": [
    "- Get the title and release year of all films released in 1990 or 2000 that were longer than two hours. Remember, duration is in minutes!"
   ]
  },
  {
   "cell_type": "markdown",
   "metadata": {},
   "source": [
    "```\n",
    "SELECT\n",
    "    title, release_year\n",
    "FROM\n",
    "    films\n",
    "WHERE\n",
    "    release_year IN (1990, 2000) \n",
    "        AND\n",
    "    duration > 120\n",
    "```"
   ]
  },
  {
   "cell_type": "markdown",
   "metadata": {},
   "source": [
    "- Get the title and language of all films which were in English, Spanish, or French."
   ]
  },
  {
   "cell_type": "markdown",
   "metadata": {},
   "source": [
    "```\n",
    "SELECT \n",
    "    title, language\n",
    "FROM\n",
    "    films\n",
    "WHERE\n",
    "    language IN ('English', 'Spanish',  'French')\n",
    "```"
   ]
  },
  {
   "cell_type": "markdown",
   "metadata": {},
   "source": [
    "- Get the title and certification of all films with an NC-17 or R certification."
   ]
  },
  {
   "cell_type": "markdown",
   "metadata": {},
   "source": [
    "```\n",
    "SELECT\n",
    "    title, certification\n",
    "FROM\n",
    "    films\n",
    "WHERE\n",
    "    certification IN ('NC-17' , 'R')\n",
    "```"
   ]
  },
  {
   "cell_type": "markdown",
   "metadata": {},
   "source": [
    "What does NULL represent?:\n",
    " - A missing value"
   ]
  },
  {
   "cell_type": "markdown",
   "metadata": {},
   "source": [
    "- Get the names of people who are still alive, i.e. whose death date is missing."
   ]
  },
  {
   "cell_type": "markdown",
   "metadata": {},
   "source": [
    "```\n",
    "SELECT\n",
    "    name\n",
    "FROM\n",
    "    people\n",
    "WHERE\n",
    "    deathdate IS NULL\n",
    "\n",
    "```"
   ]
  },
  {
   "cell_type": "markdown",
   "metadata": {},
   "source": [
    "- Get the title of every film which doesn't have a budget associated with it."
   ]
  },
  {
   "cell_type": "markdown",
   "metadata": {},
   "source": [
    "```\n",
    "SELECT\n",
    "    title\n",
    "FROM\n",
    "    films\n",
    "WHERE\n",
    "    budget IS NULL\n",
    "```"
   ]
  },
  {
   "cell_type": "markdown",
   "metadata": {},
   "source": [
    "- Get the number of films which don't have a language associated with them."
   ]
  },
  {
   "cell_type": "markdown",
   "metadata": {},
   "source": [
    "```\n",
    "SELECT\n",
    "    COUNT(*)\n",
    "FROM\n",
    "    films\n",
    "WHERE\n",
    "    language IS NULL\n",
    "```"
   ]
  },
  {
   "cell_type": "markdown",
   "metadata": {},
   "source": [
    "- Get the names of all people whose names begin with 'B'. The pattern you need is 'B%'."
   ]
  },
  {
   "cell_type": "markdown",
   "metadata": {},
   "source": [
    "```\n",
    "SELECT\n",
    "    name\n",
    "FROM\n",
    "    people\n",
    "WHERE\n",
    "    name LIKE 'B%'\n",
    "```"
   ]
  },
  {
   "cell_type": "markdown",
   "metadata": {},
   "source": [
    "- Get the names of people whose names have 'r' as the second letter. The pattern you need is '_r%'."
   ]
  },
  {
   "cell_type": "markdown",
   "metadata": {},
   "source": [
    "```\n",
    "SELECT\n",
    "    name\n",
    "FROM\n",
    "    people\n",
    "WHERE\n",
    "    name LIKE '_r%'\n",
    "```"
   ]
  },
  {
   "cell_type": "markdown",
   "metadata": {},
   "source": [
    "- Get the names of people whose names don't start with A. The pattern you need is 'A%'."
   ]
  },
  {
   "cell_type": "markdown",
   "metadata": {},
   "source": [
    "```\n",
    "SELECT\n",
    "    name\n",
    "FROM\n",
    "    people\n",
    "WHERE\n",
    "    name NOT LIKE 'A%'\n",
    "```"
   ]
  }
 ],
 "metadata": {
  "interpreter": {
   "hash": "3fef59229a6e1ff5434759995be53a28a25493efd6d26eb6c004eefe62e31083"
  },
  "kernelspec": {
   "display_name": "Python 3.8.11 ('env_py')",
   "language": "python",
   "name": "python3"
  },
  "language_info": {
   "name": "python",
   "version": "3.8.11"
  },
  "orig_nbformat": 4
 },
 "nbformat": 4,
 "nbformat_minor": 2
}
