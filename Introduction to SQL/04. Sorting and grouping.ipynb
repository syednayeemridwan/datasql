{
 "cells": [
  {
   "cell_type": "markdown",
   "metadata": {},
   "source": [
    "How do you think ORDER BY sorts a column of text values by default?:\n",
    "- Alphabetically (A-Z)"
   ]
  },
  {
   "cell_type": "markdown",
   "metadata": {},
   "source": [
    "- Get the names of people from the people table, sorted alphabetically."
   ]
  },
  {
   "cell_type": "markdown",
   "metadata": {},
   "source": [
    "```\n",
    "SELECT\n",
    "    name\n",
    "FROM\n",
    "    people\n",
    "ORDER BY name\n",
    "```"
   ]
  },
  {
   "cell_type": "markdown",
   "metadata": {},
   "source": [
    "- Get the names of people, sorted by birth date."
   ]
  },
  {
   "cell_type": "markdown",
   "metadata": {},
   "source": [
    "```\n",
    "SELECT\n",
    "    name\n",
    "FROM\n",
    "    people\n",
    "ORDER BY birthdate\n",
    "```"
   ]
  },
  {
   "cell_type": "markdown",
   "metadata": {},
   "source": [
    "- Get the birth date and name for every person, in order of when they were born."
   ]
  },
  {
   "cell_type": "markdown",
   "metadata": {},
   "source": [
    "```\n",
    "SELECT\n",
    "    name, birthdate\n",
    "FROM\n",
    "    people\n",
    "ORDER BY birthdate\n",
    "```"
   ]
  },
  {
   "cell_type": "markdown",
   "metadata": {},
   "source": [
    "- Get the title of films released in 2000 or 2012, in the order they were released."
   ]
  },
  {
   "cell_type": "markdown",
   "metadata": {},
   "source": [
    "```\n",
    "SELECT\n",
    "    title\n",
    "FROM\n",
    "    films\n",
    "WHERE\n",
    "    release_year IN (2000, 2012)\n",
    "ORDER BY release_year\n",
    "```"
   ]
  },
  {
   "cell_type": "markdown",
   "metadata": {},
   "source": [
    "- Get all details for all films except those released in 2015 and order them by duration."
   ]
  },
  {
   "cell_type": "markdown",
   "metadata": {},
   "source": [
    "```\n",
    "SELECT\n",
    "    *\n",
    "FROM\n",
    "    films\n",
    "WHERE\n",
    "    release_year <> 2015\n",
    "ORDER BY duration\n",
    "```"
   ]
  },
  {
   "cell_type": "markdown",
   "metadata": {},
   "source": [
    "- Get the title and gross earnings for movies which begin with the letter 'M' and order the results alphabetically."
   ]
  },
  {
   "cell_type": "markdown",
   "metadata": {},
   "source": [
    "```\n",
    "SELECT\n",
    "    title, gross\n",
    "FROM\n",
    "    films\n",
    "WHERE\n",
    "    title LIKE 'M%'\n",
    "ORDER BY title\n",
    "```"
   ]
  },
  {
   "cell_type": "markdown",
   "metadata": {},
   "source": [
    "- Get the IMDB score and film ID for every film from the reviews table, sorted from highest to lowest score."
   ]
  },
  {
   "cell_type": "markdown",
   "metadata": {},
   "source": [
    "```\n",
    "SELECT\n",
    "    imdb_score, film_id\n",
    "FROM\n",
    "    reviews\n",
    "ORDER BY imdb_score DESC\n",
    "```"
   ]
  },
  {
   "cell_type": "markdown",
   "metadata": {},
   "source": [
    "- Get the title for every film, in reverse order."
   ]
  },
  {
   "cell_type": "markdown",
   "metadata": {},
   "source": [
    "```\n",
    "SELECT\n",
    "    title\n",
    "FROM\n",
    "    films\n",
    "ORDER BY title DESC\n",
    "```"
   ]
  },
  {
   "cell_type": "markdown",
   "metadata": {},
   "source": [
    "- Get the title and duration for every film, in order of longest duration to shortest."
   ]
  },
  {
   "cell_type": "markdown",
   "metadata": {},
   "source": [
    "```\n",
    "SELECT\n",
    "    title, duration\n",
    "FROM\n",
    "    films\n",
    "ORDER BY duration DESC\n",
    "```"
   ]
  },
  {
   "cell_type": "markdown",
   "metadata": {},
   "source": [
    "- Get the birth date and name of people in the people table, in order of when they were born and alphabetically by name."
   ]
  },
  {
   "cell_type": "markdown",
   "metadata": {},
   "source": [
    "```\n",
    "SELECT\n",
    "    birthdate, name\n",
    "FROM\n",
    "    people\n",
    "ORDER BY birthdate, name\n",
    "```"
   ]
  },
  {
   "cell_type": "markdown",
   "metadata": {},
   "source": [
    "- Get the release year, duration, and title of films ordered by their release year and duration."
   ]
  },
  {
   "cell_type": "markdown",
   "metadata": {},
   "source": [
    "```\n",
    "SELECT\n",
    "    release_year, duration, title\n",
    "FROM\n",
    "    films\n",
    "ORDER BY release_year, duration\n",
    "```"
   ]
  },
  {
   "cell_type": "markdown",
   "metadata": {},
   "source": [
    "- Get certifications, release years, and titles of films ordered by certification (alphabetically) and release year."
   ]
  },
  {
   "cell_type": "markdown",
   "metadata": {},
   "source": [
    "```\n",
    "SELECT\n",
    "    certification, release_year, title\n",
    "FROM\n",
    "    films\n",
    "ORDER BY certification, release_year\n",
    "```"
   ]
  },
  {
   "cell_type": "markdown",
   "metadata": {},
   "source": [
    "- Get the names and birthdates of people ordered by name and birth date."
   ]
  },
  {
   "cell_type": "markdown",
   "metadata": {},
   "source": [
    "```\n",
    "SELECT\n",
    "    name, birthdate\n",
    "FROM\n",
    "    people\n",
    "ORDER BY name, birthdate\n",
    "```"
   ]
  },
  {
   "cell_type": "markdown",
   "metadata": {},
   "source": [
    "Commonly, GROUP BY is used with aggregate functions like COUNT() or MAX(). Note that GROUP BY always goes after the FROM clause!\n",
    "\n",
    "What is GROUP BY used for?\n",
    "- Performing operations by group"
   ]
  },
  {
   "cell_type": "markdown",
   "metadata": {},
   "source": [
    "- Get the release year and count of films released in each year."
   ]
  },
  {
   "cell_type": "markdown",
   "metadata": {},
   "source": [
    "```\n",
    "SELECT\n",
    "    release_year, COUNT(*)\n",
    "FROM\n",
    "    films\n",
    "GROUP BY release_year\n",
    "```"
   ]
  },
  {
   "cell_type": "markdown",
   "metadata": {},
   "source": [
    "- Get the release year and average duration of all films, grouped by release year."
   ]
  },
  {
   "cell_type": "markdown",
   "metadata": {},
   "source": [
    "```\n",
    "SELECT\n",
    "    release_year, AVG(duration)\n",
    "FROM\n",
    "    films\n",
    "GROUP BY release_year\n",
    "```"
   ]
  },
  {
   "cell_type": "markdown",
   "metadata": {},
   "source": [
    "- Get the release year and largest budget for all films, grouped by release year."
   ]
  },
  {
   "cell_type": "markdown",
   "metadata": {},
   "source": [
    "```\n",
    "SELECT\n",
    "    release_year, MAX(budget)\n",
    "FROM\n",
    "    films\n",
    "GROUP BY release_year\n",
    "```"
   ]
  },
  {
   "cell_type": "markdown",
   "metadata": {},
   "source": [
    "- Get the IMDB score and count of film reviews grouped by IMDB score in the reviews table."
   ]
  },
  {
   "cell_type": "markdown",
   "metadata": {},
   "source": [
    "```\n",
    "SELECT\n",
    "    imdb_score, COUNT(*)\n",
    "FROM\n",
    "    reviews\n",
    "GROUP BY imdb_score\n",
    "```"
   ]
  },
  {
   "cell_type": "markdown",
   "metadata": {},
   "source": [
    "- Get the release year and lowest gross earnings per release year."
   ]
  },
  {
   "cell_type": "markdown",
   "metadata": {},
   "source": [
    "```\n",
    "SELECT\n",
    "    release_year, MIN(gross)\n",
    "FROM\n",
    "    films\n",
    "GROUP BY release_year\n",
    "```"
   ]
  },
  {
   "cell_type": "markdown",
   "metadata": {},
   "source": [
    "- Get the language and total gross amount films in each language made."
   ]
  },
  {
   "cell_type": "markdown",
   "metadata": {},
   "source": [
    "```\n",
    "SELECT\n",
    "    language, SUM(gross)\n",
    "FROM\n",
    "    films\n",
    "GROUP BY language\n",
    "```"
   ]
  },
  {
   "cell_type": "markdown",
   "metadata": {},
   "source": [
    "- Get the country and total budget spent making movies in each country."
   ]
  },
  {
   "cell_type": "markdown",
   "metadata": {},
   "source": [
    "```\n",
    "SELECT\n",
    "    country, SUM(budget)\n",
    "FROM\n",
    "    films\n",
    "GROUP BY country\n",
    "```"
   ]
  },
  {
   "cell_type": "markdown",
   "metadata": {},
   "source": [
    "- Get the release year, country, and highest budget spent making a film for each year, for each country. Sort your results by release year and country."
   ]
  },
  {
   "cell_type": "markdown",
   "metadata": {},
   "source": [
    "```\n",
    "SELECT\n",
    "    release_year, country, MAX(budget)\n",
    "FROM\n",
    "    films\n",
    "GROUP BY release_year, country\n",
    "ORDER BY release_year, country\n",
    "```"
   ]
  },
  {
   "cell_type": "markdown",
   "metadata": {},
   "source": [
    "- Get the country, release year, and lowest amount grossed per release year per country. Order your results by country and release year."
   ]
  },
  {
   "cell_type": "markdown",
   "metadata": {},
   "source": [
    "```\n",
    "SELECT\n",
    "    release_year, country, MIN(gross)\n",
    "FROM\n",
    "    films\n",
    "GROUP BY country, release_year\n",
    "ORDER BY country, release_year\n",
    "```"
   ]
  },
  {
   "cell_type": "markdown",
   "metadata": {},
   "source": [
    "- In how many different years were more than 200 movies released?"
   ]
  },
  {
   "cell_type": "markdown",
   "metadata": {},
   "source": [
    "```\n",
    "SELECT \n",
    "    COUNT(DISTINCT(release_year))\n",
    "FROM \n",
    "    films\n",
    "GROUP BY release_year\n",
    "HAVING COUNT(title) > 200;\n",
    "```"
   ]
  },
  {
   "cell_type": "markdown",
   "metadata": {},
   "source": [
    "- Get the release year, budget and gross earnings for each film in the films table."
   ]
  },
  {
   "cell_type": "markdown",
   "metadata": {},
   "source": [
    "```\n",
    "SELECT\n",
    "    release_year, budget, gross\n",
    "FROM\n",
    "    films\n",
    "\n",
    "```"
   ]
  },
  {
   "cell_type": "markdown",
   "metadata": {},
   "source": [
    "- Modify your query so that only records with a release_year after 1990 are included."
   ]
  },
  {
   "cell_type": "markdown",
   "metadata": {},
   "source": [
    "```\n",
    "SELECT\n",
    "    release_year, budget, gross\n",
    "FROM\n",
    "    films\n",
    "WHERE\n",
    "    release_year > 1990\n",
    "```"
   ]
  },
  {
   "cell_type": "markdown",
   "metadata": {},
   "source": [
    "- Remove the budget and gross columns, and group your results by release year."
   ]
  },
  {
   "cell_type": "markdown",
   "metadata": {},
   "source": [
    "```\n",
    "SELECT\n",
    "    release_year\n",
    "FROM\n",
    "    films\n",
    "WHERE\n",
    "    release_year > 1990\n",
    "GROUP BY release_year\n",
    "```"
   ]
  },
  {
   "cell_type": "markdown",
   "metadata": {},
   "source": [
    "- Modify your query to include the average budget and average gross earnings for the results you have so far. Alias the average budget as avg_budget; alias the average gross earnings as avg_gross."
   ]
  },
  {
   "cell_type": "markdown",
   "metadata": {},
   "source": [
    "```\n",
    "SELECT\n",
    "    release_year, AVG(budget) AS avg_budget, AVG(gross) AS avg_gross\n",
    "FROM\n",
    "    films\n",
    "WHERE\n",
    "    release_year > 1990\n",
    "GROUP BY release_year\n",
    "```"
   ]
  },
  {
   "cell_type": "markdown",
   "metadata": {},
   "source": [
    "- Modify your query so that only years with an average budget of greater than $60 million are included."
   ]
  },
  {
   "cell_type": "markdown",
   "metadata": {},
   "source": [
    "```\n",
    "SELECT \n",
    "    release_year, AVG(budget) AS avg_budget, AVG(gross) AS avg_gross\n",
    "FROM \n",
    "    films\n",
    "WHERE  \n",
    "    release_year > 1990\n",
    "GROUP BY release_year\n",
    "HAVING AVG(budget) > 60000000;\n",
    "```"
   ]
  },
  {
   "cell_type": "markdown",
   "metadata": {},
   "source": [
    "- Finally, modify your query to order the results from highest average gross earnings to lowest."
   ]
  },
  {
   "cell_type": "markdown",
   "metadata": {},
   "source": [
    "```\n",
    "SELECT \n",
    "    release_year, AVG(budget) AS avg_budget, AVG(gross) AS avg_gross\n",
    "FROM \n",
    "    films\n",
    "WHERE  \n",
    "    release_year > 1990\n",
    "GROUP BY release_year\n",
    "HAVING AVG(budget) > 60000000\n",
    "ORDER BY avg_gross DESC;\n",
    "```"
   ]
  },
  {
   "cell_type": "markdown",
   "metadata": {},
   "source": [
    "- Get the country, average budget, and average gross take of countries that have made more than 10 films. Order the result by country name, and limit the number of results displayed to 5. You should alias the averages as avg_budget and avg_gross respectively."
   ]
  },
  {
   "cell_type": "markdown",
   "metadata": {},
   "source": [
    "```\n",
    "SELECT \n",
    "    country, AVG(budget) AS avg_budget, AVG(gross) AS avg_gross\n",
    "FROM \n",
    "    films\n",
    "GROUP BY country\n",
    "HAVING COUNT(title) > 10\n",
    "ORDER BY country\n",
    "LIMIT 5\n",
    "```"
   ]
  },
  {
   "cell_type": "markdown",
   "metadata": {},
   "source": [
    "- JOIN"
   ]
  },
  {
   "cell_type": "markdown",
   "metadata": {},
   "source": [
    "```\n",
    "SELECT \n",
    "    title, imdb_score\n",
    "FROM \n",
    "    films JOIN reviews\n",
    "        ON \n",
    "    films.id = reviews.film_id\n",
    "WHERE \n",
    "    title = 'To Kill a Mockingbird';\n",
    "```"
   ]
  }
 ],
 "metadata": {
  "interpreter": {
   "hash": "3fef59229a6e1ff5434759995be53a28a25493efd6d26eb6c004eefe62e31083"
  },
  "kernelspec": {
   "display_name": "Python 3.8.11 ('env_py')",
   "language": "python",
   "name": "python3"
  },
  "language_info": {
   "name": "python",
   "version": "3.8.11"
  },
  "orig_nbformat": 4
 },
 "nbformat": 4,
 "nbformat_minor": 2
}
