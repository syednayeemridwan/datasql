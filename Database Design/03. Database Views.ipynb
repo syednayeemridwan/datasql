{
 "cells": [
  {
   "cell_type": "markdown",
   "metadata": {},
   "source": [
    "- Query the information schema to get views.\n",
    "- Exclude system views in the results."
   ]
  },
  {
   "cell_type": "code",
   "execution_count": 1,
   "metadata": {},
   "outputs": [],
   "source": [
    "# -- Get all non-systems views\n",
    "# SELECT * FROM INFORMATION_SCHEMA.views\n",
    "# WHERE table_schema NOT IN ('pg_catalog', 'information_schema');"
   ]
  },
  {
   "cell_type": "markdown",
   "metadata": {},
   "source": [
    "- Create a view called high_scores that holds reviews with scores above a 9.\n",
    "- Count the number of records in high_scores that are self-released in the label field of the labels table."
   ]
  },
  {
   "cell_type": "code",
   "execution_count": 2,
   "metadata": {},
   "outputs": [],
   "source": [
    "# -- Create a view for reviews with a score above 9\n",
    "# CREATE VIEW high_scores AS\n",
    "# SELECT * FROM REVIEWS\n",
    "# WHERE score > 9;\n",
    "\n",
    "# -- Count the number of self-released works in high_scores\n",
    "# SELECT COUNT(*) FROM high_scores\n",
    "# INNER JOIN labels ON high_scores.reviewid = labels.reviewid\n",
    "# WHERE label = 'self-released';"
   ]
  },
  {
   "cell_type": "markdown",
   "metadata": {},
   "source": [
    "- Create a view called top_artists_2017 with artist from artist_title.\n",
    "- To only return the highest scoring artists of 2017, join the views top_15_2017 and artist_title on reviewid.\n",
    "- Output top_artists_2017."
   ]
  },
  {
   "cell_type": "code",
   "execution_count": 3,
   "metadata": {},
   "outputs": [],
   "source": [
    "# -- Create a view with the top artists in 2017\n",
    "# CREATE VIEW top_artists_2017 AS\n",
    "# -- with only one column holding the artist field\n",
    "# SELECT artist_title.artist FROM artist_title\n",
    "# INNER JOIN top_15_2017\n",
    "# ON artist_title.reviewid = top_15_2017.reviewid;\n",
    "\n",
    "# -- Output the new view\n",
    "# SELECT * FROM top_artists_2017;"
   ]
  },
  {
   "cell_type": "markdown",
   "metadata": {},
   "source": [
    "- Which is the DROP command that would drop both top_15_2017 and top_artists_2017?"
   ]
  },
  {
   "cell_type": "code",
   "execution_count": 4,
   "metadata": {},
   "outputs": [],
   "source": [
    "# DROP VIEW top_15_2017 CASCADE;"
   ]
  },
  {
   "cell_type": "markdown",
   "metadata": {},
   "source": [
    "- Revoke all database users' update and insert privileges on the long_reviews view.\n",
    "- Grant the editor user update and insert privileges on the long_reviews view."
   ]
  },
  {
   "cell_type": "code",
   "execution_count": 5,
   "metadata": {},
   "outputs": [],
   "source": [
    "# -- Revoke everyone's update and insert privileges\n",
    "# REVOKE INSERT, UPDATE ON long_reviews FROM PUBLIC; \n",
    "\n",
    "# -- Grant the editor update and insert privileges \n",
    "# GRANT INSERT, UPDATE ON long_reviews TO editor; "
   ]
  },
  {
   "cell_type": "markdown",
   "metadata": {},
   "source": [
    "we've used the information_schema.views to get all the views in a database. If you take a closer look at this table, you will notice a column that indicates whether the view is updatable.\n",
    "\n",
    "- Which views are updatable?"
   ]
  },
  {
   "cell_type": "code",
   "execution_count": 6,
   "metadata": {},
   "outputs": [],
   "source": [
    "# SELECT * FROM information_schema.views\n",
    "# WHERE is_updatable = 'YES'\n"
   ]
  },
  {
   "cell_type": "markdown",
   "metadata": {},
   "source": [
    "- Use CREATE OR REPLACE to redefine the artist_title view.\n",
    "- Respecting artist_title's original columns of reviewid, title, and artist, add a label column from the labels table.\n",
    "- Join the labels table using the reviewid field."
   ]
  },
  {
   "cell_type": "code",
   "execution_count": 7,
   "metadata": {},
   "outputs": [],
   "source": [
    "# -- Redefine the artist_title view to have a label column\n",
    "# CREATE OR REPLACE VIEW artist_title AS\n",
    "# SELECT reviews.reviewid, reviews.title, artists.artist, labels.label\n",
    "# FROM reviews\n",
    "# INNER JOIN artists\n",
    "# ON reviews.reviewid = artists.reviewid\n",
    "# INNER JOIN labels\n",
    "# ON reviews.reviewid = labels.reviewid;\n",
    "\n",
    "# SELECT * FROM artist_title;"
   ]
  },
  {
   "cell_type": "markdown",
   "metadata": {},
   "source": [
    "- Create a materialized view called genre_count that holds the number of reviews for each genre.\n",
    "- Refresh genre_count so that the view is up-to-date."
   ]
  },
  {
   "cell_type": "code",
   "execution_count": 8,
   "metadata": {},
   "outputs": [],
   "source": [
    "# -- Create a materialized view called genre_count \n",
    "# CREATE MATERIALIZED VIEW genre_count AS\n",
    "# SELECT genre, COUNT(*) \n",
    "# FROM genres\n",
    "# GROUP BY genre;\n",
    "\n",
    "# INSERT INTO genres\n",
    "# VALUES (50000, 'classical');\n",
    "\n",
    "# -- Refresh genre_count\n",
    "# REFRESH MATERIALIZED VIEW genre_count;\n",
    "\n",
    "# SELECT * FROM genre_count;"
   ]
  },
  {
   "cell_type": "markdown",
   "metadata": {},
   "source": [
    "Why do companies use pipeline schedulers, such as Airflow and Luigi, to manage materialized views?\n",
    "- To refresh materialized views with consideration to dependences between views."
   ]
  }
 ],
 "metadata": {
  "interpreter": {
   "hash": "1e949e87132dd83f1a7623eb88007e3532b03b66b77111be347aa4a383049722"
  },
  "kernelspec": {
   "display_name": "Python 3.8.11 ('env_py')",
   "language": "python",
   "name": "python3"
  },
  "language_info": {
   "codemirror_mode": {
    "name": "ipython",
    "version": 3
   },
   "file_extension": ".py",
   "mimetype": "text/x-python",
   "name": "python",
   "nbconvert_exporter": "python",
   "pygments_lexer": "ipython3",
   "version": "3.8.11"
  },
  "orig_nbformat": 4
 },
 "nbformat": 4,
 "nbformat_minor": 2
}
