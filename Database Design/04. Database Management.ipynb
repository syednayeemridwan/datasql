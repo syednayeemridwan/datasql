{
 "cells": [
  {
   "cell_type": "markdown",
   "metadata": {},
   "source": [
    "- Create a role called data_scientist."
   ]
  },
  {
   "cell_type": "code",
   "execution_count": 1,
   "metadata": {},
   "outputs": [],
   "source": [
    "# -- Create a data scientist role\n",
    "# CREATE ROLE data_scientist;"
   ]
  },
  {
   "cell_type": "markdown",
   "metadata": {},
   "source": [
    "- Create a role called marta that has one attribute: the ability to login (LOGIN)."
   ]
  },
  {
   "cell_type": "code",
   "execution_count": 2,
   "metadata": {},
   "outputs": [],
   "source": [
    "# -- Create a role for Marta\n",
    "# CREATE ROLE marta LOGIN;"
   ]
  },
  {
   "cell_type": "markdown",
   "metadata": {},
   "source": [
    "- Create a role called admin with the ability to create databases (CREATEDB) and to create roles (CREATEROLE)."
   ]
  },
  {
   "cell_type": "code",
   "execution_count": 3,
   "metadata": {},
   "outputs": [],
   "source": [
    "# -- Create an admin role\n",
    "# CREATE ROLE admin WITH CREATEDB CREATEROLE;"
   ]
  },
  {
   "cell_type": "markdown",
   "metadata": {},
   "source": [
    "- Grant the data_scientist role update and insert privileges on the long_reviews view.\n",
    "- Alter Marta's role to give her the provided password."
   ]
  },
  {
   "cell_type": "code",
   "execution_count": 4,
   "metadata": {},
   "outputs": [],
   "source": [
    "# -- Grant data_scientist update and insert privileges\n",
    "# GRANT UPDATE, INSERT ON long_reviews TO data_scientist;\n",
    "\n",
    "# -- Give Marta's role a password\n",
    "# ALTER ROLE marta WITH PASSWORD 's3cur3p@ssw0rd';"
   ]
  },
  {
   "cell_type": "markdown",
   "metadata": {},
   "source": [
    "- Add Marta's user role to the data scientist group role.\n",
    "- Celebrate! You hired multiple data scientists.\n",
    "- Remove Marta's user role from the data scientist group role."
   ]
  },
  {
   "cell_type": "code",
   "execution_count": null,
   "metadata": {},
   "outputs": [],
   "source": [
    "# -- Add Marta to the data scientist group\n",
    "# GRANT data_scientist TO marta;\n",
    "\n",
    "# -- Celebrate! You hired data scientists.\n",
    "\n",
    "# -- Remove Marta from the data scientist group\n",
    "# REVOKE data_scientist FROM marta;"
   ]
  },
  {
   "cell_type": "markdown",
   "metadata": {},
   "source": [
    "Partition is not used to improve:\n",
    "- Improve data integrity\n",
    "\n",
    "Insted, it is used to :\n",
    "- Easily extend partitioning to sharding, and thus making use of parallelization"
   ]
  },
  {
   "cell_type": "markdown",
   "metadata": {},
   "source": [
    "- Create a new table film_descriptions containing 2 fields: film_id, which is of type INT, and long_description, which is of type TEXT.\n",
    "- Occupy the new table with values from the film table.\n",
    "- Drop the field long_description from the film table.\n",
    "- Join the two resulting tables to view the original table."
   ]
  },
  {
   "cell_type": "code",
   "execution_count": 5,
   "metadata": {},
   "outputs": [],
   "source": [
    "# -- Create a new table called film_descriptions\n",
    "# CREATE TABLE film_descriptions (\n",
    "#     film_id INT,\n",
    "#     long_description TEXT\n",
    "# );\n",
    "\n",
    "# -- Copy the descriptions from the film table\n",
    "# INSERT INTO film_descriptions\n",
    "# SELECT film_id, long_description FROM film;\n",
    "    \n",
    "# -- Drop the descriptions from the original table\n",
    "# ALTER TABLE film DROP COLUMN long_description;\n",
    "\n",
    "# -- Join to view the original table\n",
    "# SELECT * FROM film_descriptions \n",
    "# JOIN film USING(film_id);"
   ]
  },
  {
   "cell_type": "markdown",
   "metadata": {},
   "source": [
    "- Create the table film_partitioned, partitioned on the field release_year.\n",
    "- Create three partitions: one for each release year: 2017, 2018, and 2019. Call the partition for 2019 film_2019, etc.\n",
    "- Occupy the new table, film_partitioned, with the three fields required from the film table."
   ]
  },
  {
   "cell_type": "code",
   "execution_count": 6,
   "metadata": {},
   "outputs": [],
   "source": [
    "# -- Create a new table called film_partitioned\n",
    "# CREATE TABLE film_partitioned (\n",
    "#   film_id INT,\n",
    "#   title TEXT NOT NULL,\n",
    "#   release_year TEXT\n",
    "# )\n",
    "# PARTITION BY LIST (release_year);\n",
    "\n",
    "# -- Create the partitions for 2019, 2018, and 2017\n",
    "# CREATE TABLE film_2019\n",
    "# \tPARTITION OF film_partitioned FOR VALUES IN ('2019');\n",
    "\n",
    "# CREATE TABLE film_2018\n",
    "# \tPARTITION OF film_partitioned FOR VALUES IN ('2018');\n",
    "\n",
    "# CREATE TABLE film_2017\n",
    "# \tPARTITION OF film_partitioned FOR VALUES IN ('2017');\n",
    "\n",
    "# -- Insert the data into film_partitioned\n",
    "# INSERT INTO film_partitioned\n",
    "# SELECT film_id, title, release_year FROM film;\n",
    "\n",
    "# -- View film_partitioned\n",
    "# SELECT * FROM film_partitioned;"
   ]
  },
  {
   "cell_type": "markdown",
   "metadata": {},
   "source": [
    "When working with sensitive data it is important to think about permissions. By default you should have the same access rights before and after data integration. If part of the data is essential, it should be anonymized,"
   ]
  },
  {
   "cell_type": "markdown",
   "metadata": {},
   "source": [
    "When is it better to use a SQL DBMS?\n",
    "- You are concerned about data consistency and 100% data integrity is your top goal."
   ]
  }
 ],
 "metadata": {
  "interpreter": {
   "hash": "1e949e87132dd83f1a7623eb88007e3532b03b66b77111be347aa4a383049722"
  },
  "kernelspec": {
   "display_name": "Python 3.8.11 ('env_py')",
   "language": "python",
   "name": "python3"
  },
  "language_info": {
   "codemirror_mode": {
    "name": "ipython",
    "version": 3
   },
   "file_extension": ".py",
   "mimetype": "text/x-python",
   "name": "python",
   "nbconvert_exporter": "python",
   "pygments_lexer": "ipython3",
   "version": "3.8.11"
  },
  "orig_nbformat": 4
 },
 "nbformat": 4,
 "nbformat_minor": 2
}
