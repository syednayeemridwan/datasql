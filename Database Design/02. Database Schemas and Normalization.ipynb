{
 "cells": [
  {
   "cell_type": "markdown",
   "metadata": {},
   "source": [
    "Normalize route_dim and week_dim. Which option best describes the resulting new tables after doing this?\n",
    "- week_dim is extended two dimensions with new tables for month and year. route_dim is extended two dimensions with new tables for city and park. month, year, city, and park are indeed repeated often. year and city would extend month and park, respectively."
   ]
  },
  {
   "cell_type": "markdown",
   "metadata": {},
   "source": [
    "- In the constraint called sales_book, set book_id as a foreign key.\n",
    "- In the constraint called sales_time, set time_id as a foreign key.\n",
    "- In the constraint called sales_store, set store_id as a foreign key."
   ]
  },
  {
   "cell_type": "code",
   "execution_count": 1,
   "metadata": {},
   "outputs": [],
   "source": [
    "# -- Add the book_id foreign key\n",
    "# ALTER TABLE fact_booksales ADD CONSTRAINT sales_book\n",
    "#     FOREIGN KEY (book_id) REFERENCES dim_book_star (book_id);\n",
    "    \n",
    "# -- Add the time_id foreign key\n",
    "# ALTER TABLE fact_booksales ADD CONSTRAINT sales_time\n",
    "#     FOREIGN KEY (time_id) REFERENCES dim_time_star (time_id);\n",
    "    \n",
    "# -- Add the store_id foreign key\n",
    "# ALTER TABLE fact_booksales ADD CONSTRAINT sales_store\n",
    "#     FOREIGN KEY (store_id) REFERENCES dim_store_star (store_id);"
   ]
  },
  {
   "cell_type": "markdown",
   "metadata": {},
   "source": [
    "- Create dim_author with a column for author.\n",
    "- Insert all the distinct authors from dim_book_star into dim_author."
   ]
  },
  {
   "cell_type": "code",
   "execution_count": 2,
   "metadata": {},
   "outputs": [],
   "source": [
    "# -- Create dim_author with an author column\n",
    "# CREATE TABLE dim_author (\n",
    "#     author VARCHAR(256)  NOT NULL\n",
    "# );\n",
    "\n",
    "# -- Insert authors into the new table\n",
    "# INSERT INTO dim_author\n",
    "# SELECT DISTINCT author FROM dim_book_star;"
   ]
  },
  {
   "cell_type": "markdown",
   "metadata": {},
   "source": [
    "- Alter dim_author to have a primary key called author_id.\n",
    "- Output all the columns of dim_author."
   ]
  },
  {
   "cell_type": "code",
   "execution_count": 3,
   "metadata": {},
   "outputs": [],
   "source": [
    "# -- Create a new table for dim_author with an author column\n",
    "# CREATE TABLE dim_author (\n",
    "#     author varchar(256)  NOT NULL\n",
    "# );\n",
    "\n",
    "# -- Insert authors \n",
    "# INSERT INTO dim_author\n",
    "# SELECT DISTINCT author FROM dim_book_star;\n",
    "\n",
    "# -- Add a primary key \n",
    "# ALTER TABLE dim_author ADD COLUMN author_id SERIAL PRIMARY KEY;\n",
    "\n",
    "# -- Output the new table\n",
    "# SELECT * FROM dim_author;"
   ]
  },
  {
   "cell_type": "markdown",
   "metadata": {},
   "source": [
    "- Select state from the appropriate table and the total sales_amount.\n",
    "- Complete the JOIN on book_id.\n",
    "- Complete the JOIN to connect the dim_store_star table\n",
    "- Conditionally select for books with the genre novel.\n",
    "- Group the results by state."
   ]
  },
  {
   "cell_type": "code",
   "execution_count": 4,
   "metadata": {},
   "outputs": [],
   "source": [
    "# -- Output each state and their total sales_amount\n",
    "# SELECT dim_store_star.state, SUM(fact_booksales.sales_amount)\n",
    "# FROM fact_booksales\n",
    "# \t-- Join to get book information\n",
    "#     JOIN dim_book_star on fact_booksales.book_id = dim_book_star.book_id\n",
    "# \t-- Join to get store information\n",
    "#     JOIN dim_store_star\n",
    "#  on fact_booksales.store_id = dim_store_star.store_id\n",
    "# -- Get all books with in the novel genre\n",
    "# WHERE  \n",
    "#     dim_book_star.genre = 'novel'\n",
    "# -- Group results by state\n",
    "# GROUP BY\n",
    "#     dim_store_star.state;"
   ]
  },
  {
   "cell_type": "markdown",
   "metadata": {},
   "source": [
    "- Select state from the appropriate table and the total sales_amount.\n",
    "- Complete the two JOINS to get the genre_id's.\n",
    "- Complete the three JOINS to get the state_id's.\n",
    "- Conditionally select for books with the genre novel.\n",
    "- Group the results by state."
   ]
  },
  {
   "cell_type": "code",
   "execution_count": 6,
   "metadata": {},
   "outputs": [],
   "source": [
    "# -- Output each state and their total sales_amount\n",
    "# SELECT dim_state_sf.state, SUM(fact_booksales.sales_amount)\n",
    "# FROM fact_booksales \n",
    "#     -- Joins for genre\n",
    "#     JOIN dim_book_sf on fact_booksales.book_id = dim_book_sf.book_id\n",
    "#     JOIN dim_genre_sf on dim_book_sf.genre_id = dim_genre_sf.genre_id\n",
    "#     -- Joins for state \n",
    "#     JOIN dim_store_sf on fact_booksales.store_id = dim_store_sf.store_id \n",
    "#     JOIN dim_city_sf on dim_store_sf.city_id = dim_city_sf.city_id\n",
    "# \tJOIN dim_state_sf on  dim_city_sf.state_id = dim_state_sf.state_id\n",
    "# -- Get all books with in the novel genre and group the results by state\n",
    "# WHERE  \n",
    "#     dim_genre_sf.genre = 'novel'\n",
    "# GROUP BY\n",
    "#     dim_state_sf.state;"
   ]
  },
  {
   "cell_type": "markdown",
   "metadata": {},
   "source": [
    "- Output all the records that need to be updated in the star schema so that countries are represented by their abbreviations."
   ]
  },
  {
   "cell_type": "code",
   "execution_count": 7,
   "metadata": {},
   "outputs": [],
   "source": [
    "# -- Output records that need to be updated in the star schema\n",
    "# SELECT * FROM dim_store_star\n",
    "# WHERE country != 'USA' AND country !='CA';"
   ]
  },
  {
   "cell_type": "markdown",
   "metadata": {},
   "source": [
    "Updating is typically simpler in a snowflake schema because there are less records to update because redundant values are minimized to their own table (e.g., countries have their own table, dim_country_sf). Snowflake schemas are also better at enforcing naming conventions due to referential integrity."
   ]
  },
  {
   "cell_type": "markdown",
   "metadata": {},
   "source": [
    "- Add a continent_id column to dim_country_sf with a default value of 1. Note thatNOT NULL DEFAULT(1) constrains a value from being null and defaults its value to 1.\n",
    "- Make that new column a foreign key reference to dim_continent_sf's continent_id."
   ]
  },
  {
   "cell_type": "code",
   "execution_count": 8,
   "metadata": {},
   "outputs": [],
   "source": [
    "# -- Add a continent_id column with default value of 1\n",
    "# ALTER TABLE dim_country_sf\n",
    "# ADD continent_id int NOT NULL DEFAULT(1);\n",
    "\n",
    "# -- Add the foreign key constraint\n",
    "# ALTER TABLE dim_country_sf ADD CONSTRAINT country_continent\n",
    "#    FOREIGN KEY (continent_id) REFERENCES dim_continent_sf(continent_id);\n",
    "   \n",
    "# -- Output updated table\n",
    "# SELECT * FROM dim_country_sf;"
   ]
  },
  {
   "cell_type": "markdown",
   "metadata": {},
   "source": [
    "- cars_rented holds one or more car_ids and invoice_id holds multiple values. Create a new table to hold individual car_ids and invoice_ids of the customer_ids who've rented those cars.\n",
    "- Drop two columns from customers table to satisfy 1NF"
   ]
  },
  {
   "cell_type": "code",
   "execution_count": 9,
   "metadata": {},
   "outputs": [],
   "source": [
    "# -- Create a new table to hold the cars rented by customers\n",
    "# CREATE TABLE cust_rentals (\n",
    "#   customer_id INT NOT NULL,\n",
    "#   car_id VARCHAR(128) NULL,\n",
    "#   invoice_id VARCHAR(128) NULL\n",
    "# );\n",
    "\n",
    "# -- Drop column from customers table to satisfy 1NF\n",
    "# ALTER TABLE customers\n",
    "# DROP COLUMN cars_rented,\n",
    "# DROP COLUMN invoice_id;\n"
   ]
  },
  {
   "cell_type": "markdown",
   "metadata": {},
   "source": [
    "- Create a new table for the non-key columns that were conflicting with 2NF criteria.\n",
    "- Drop those non-key columns from customer_rentals."
   ]
  },
  {
   "cell_type": "code",
   "execution_count": 10,
   "metadata": {},
   "outputs": [],
   "source": [
    "# -- Create a new table to satisfy 2NF\n",
    "# CREATE TABLE cars (\n",
    "#   car_id VARCHAR(256) NULL,\n",
    "#   model VARCHAR(128),\n",
    "#   manufacturer VARCHAR(128),\n",
    "#   type_car VARCHAR(128),\n",
    "#   condition VARCHAR(128),\n",
    "#   color VARCHAR(128)\n",
    "# );\n",
    "\n",
    "# -- Drop columns in customer_rentals to satisfy 2NF\n",
    "# ALTER TABLE customer_rentals\n",
    "# DROP COLUMN model,\n",
    "# DROP COLUMN manufacturer,\n",
    "# DROP COLUMN type_car,\n",
    "# DROP COLUMN condition,\n",
    "# DROP COLUMN color;"
   ]
  },
  {
   "cell_type": "markdown",
   "metadata": {},
   "source": [
    "- Create a new table for the non-key columns that were conflicting with 3NF criteria.\n",
    "- Drop those non-key columns from rental_cars."
   ]
  },
  {
   "cell_type": "code",
   "execution_count": 11,
   "metadata": {},
   "outputs": [],
   "source": [
    "# -- Create a new table to satisfy 3NF\n",
    "# CREATE TABLE car_model(\n",
    "#   model VARCHAR(128),\n",
    "#   manufacturer VARCHAR(128),\n",
    "#   type_car VARCHAR(128)\n",
    "# );\n",
    "\n",
    "# -- Drop columns in rental_cars to satisfy 3NF\n",
    "# ALTER TABLE rental_cars\n",
    "# DROP COLUMN manufacturer, \n",
    "# DROP COLUMN color;"
   ]
  }
 ],
 "metadata": {
  "interpreter": {
   "hash": "1e949e87132dd83f1a7623eb88007e3532b03b66b77111be347aa4a383049722"
  },
  "kernelspec": {
   "display_name": "Python 3.8.11 ('env_py')",
   "language": "python",
   "name": "python3"
  },
  "language_info": {
   "codemirror_mode": {
    "name": "ipython",
    "version": 3
   },
   "file_extension": ".py",
   "mimetype": "text/x-python",
   "name": "python",
   "nbconvert_exporter": "python",
   "pygments_lexer": "ipython3",
   "version": "3.8.11"
  },
  "orig_nbformat": 4
 },
 "nbformat": 4,
 "nbformat_minor": 2
}
