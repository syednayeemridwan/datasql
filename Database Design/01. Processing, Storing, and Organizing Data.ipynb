{
 "cells": [
  {
   "cell_type": "markdown",
   "metadata": {},
   "source": [
    "The city of Chicago receives many 311 service requests throughout the day. 311 service requests are non-urgent community requests, ranging from graffiti removal to street light outages. What data processing approach is this larger repository most likely using?\n",
    "- OLTP because this table's structure appears to require frequent updates."
   ]
  },
  {
   "cell_type": "markdown",
   "metadata": {},
   "source": [
    "When should you choose a data warehouse over a data lake?\n",
    "- To create accessible and isolated data repositories for other analysts. Analysts will appreciate working in a data warehouse more because of its organization of structured data that make analysis easier."
   ]
  },
  {
   "cell_type": "markdown",
   "metadata": {},
   "source": [
    "Imagine that you love running and data. It's only natural that you begin collecting data on your weekly running routine. You're most concerned with tracking how long you are running each week. You also record the route and the distances of your runs. You gather this data and put it into one table called Runs with the following schema:\n",
    "```\n",
    "runs\n",
    "duration_mins - float\n",
    "week - int\n",
    "month - varchar(160)\n",
    "year - int\n",
    "park_name - varchar(160)\n",
    "city_name - varchar(160)\n",
    "distance_km - float\n",
    "route_name - varchar(160)\n",
    "```\n",
    "- A fact table holding duration_mins and foreign keys to dimension tables holding route details and week details, respectively."
   ]
  },
  {
   "cell_type": "markdown",
   "metadata": {},
   "source": [
    "- Create a dimension table called route that will hold the route information.\n",
    "- Create a dimension table called week that will hold the week information."
   ]
  },
  {
   "cell_type": "code",
   "execution_count": 1,
   "metadata": {},
   "outputs": [],
   "source": [
    "# -- Create a route dimension table\n",
    "# CREATE TABLE route(\n",
    "# \troute_id INTEGER PRIMARY KEY,\n",
    "#     route_name VARCHAR(160) NOT NULL,\n",
    "#     city_name  VARCHAR(160) NOT NULL,\n",
    "#     distance_km FLOAT NOT NULL,\n",
    "#     park_name VARCHAR(160) NOT NULL\n",
    "# );\n",
    "# -- Create a week dimension table\n",
    "# CREATE TABLE week(\n",
    "# \tweek_id INTEGER PRIMARY KEY,\n",
    "#     week INTEGER NOT NULL,\n",
    "#     month VARCHAR(160) NOT NULL,\n",
    "#     year INTEGER NOT NULL\n",
    "# );"
   ]
  },
  {
   "cell_type": "markdown",
   "metadata": {},
   "source": [
    "- Calculate the sum of the duration_mins column."
   ]
  },
  {
   "cell_type": "code",
   "execution_count": 2,
   "metadata": {},
   "outputs": [],
   "source": [
    "# SELECT \n",
    "# \t-- Select the sum of the duration of all runs\n",
    "# \tSUM(duration_mins)\n",
    "# FROM \n",
    "# \truns_fact;"
   ]
  },
  {
   "cell_type": "markdown",
   "metadata": {},
   "source": [
    "- Join week_dim and runs_fact.\n",
    "- Get all the week_id's from July, 2019."
   ]
  },
  {
   "cell_type": "code",
   "execution_count": 3,
   "metadata": {},
   "outputs": [],
   "source": [
    "# SELECT \n",
    "# \t-- Get the total duration of all runs\n",
    "# \tSUM(duration_mins)\n",
    "# FROM \n",
    "# \truns_fact\n",
    "# -- Get all the week_id's that are from July, 2019\n",
    "# INNER JOIN week_dim ON runs_fact.week_id = week_dim.week_id\n",
    "# WHERE month = 'July' and year = '2019';"
   ]
  }
 ],
 "metadata": {
  "interpreter": {
   "hash": "1e949e87132dd83f1a7623eb88007e3532b03b66b77111be347aa4a383049722"
  },
  "kernelspec": {
   "display_name": "Python 3.8.11 ('env_py')",
   "language": "python",
   "name": "python3"
  },
  "language_info": {
   "codemirror_mode": {
    "name": "ipython",
    "version": 3
   },
   "file_extension": ".py",
   "mimetype": "text/x-python",
   "name": "python",
   "nbconvert_exporter": "python",
   "pygments_lexer": "ipython3",
   "version": "3.8.11"
  },
  "orig_nbformat": 4
 },
 "nbformat": 4,
 "nbformat_minor": 2
}
