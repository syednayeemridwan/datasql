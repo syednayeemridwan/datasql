{
 "cells": [
  {
   "cell_type": "markdown",
   "metadata": {},
   "source": [
    "- Begin by calculating the average life expectancy across all countries for 2015."
   ]
  },
  {
   "cell_type": "markdown",
   "metadata": {},
   "source": [
    "```\n",
    "-- Select average life_expectancy\n",
    "SELECT AVG(life_expectancy)\n",
    "  -- From populations\n",
    "  FROM populations\n",
    "-- Where year is 2015\n",
    "WHERE year = 2015\n",
    "```"
   ]
  },
  {
   "cell_type": "markdown",
   "metadata": {},
   "source": [
    "- Select all fields from populations with records corresponding to larger than 1.15 times the average you calculated in the first task for 2015. In other words, change the 100 in the example above with a subquery."
   ]
  },
  {
   "cell_type": "markdown",
   "metadata": {},
   "source": [
    "```\n",
    "-- Select fields\n",
    "SELECT *\n",
    "  -- From populations\n",
    "  FROM populations\n",
    "-- Where life_expectancy is greater than\n",
    "WHERE life_expectancy >\n",
    "  -- 1.15 * subquery\n",
    "  1.15 * (SELECT AVG(life_expectancy) FROM populations WHERE year = 2015)\n",
    "  AND \n",
    "  year = 2015;\n",
    "```"
   ]
  },
  {
   "cell_type": "markdown",
   "metadata": {},
   "source": [
    "- Make use of the capital field in the countries table in your subquery.\n",
    "- Select the city name, country code, and urban area population fields."
   ]
  },
  {
   "cell_type": "markdown",
   "metadata": {},
   "source": [
    "```\n",
    "-- Select fields\n",
    "SELECT name, country_code, urbanarea_pop\n",
    "  -- From cities\n",
    "  FROM cities\n",
    "-- Where city name in the field of capital cities\n",
    "WHERE name IN\n",
    "  -- Subquery\n",
    "  (SELECT capital\n",
    "   FROM countries)\n",
    "ORDER BY urbanarea_pop DESC;\n",
    "```"
   ]
  },
  {
   "cell_type": "markdown",
   "metadata": {},
   "source": [
    "Check the code :\n",
    "```\n",
    "SELECT countries.name AS country, COUNT(*) AS cities_num\n",
    "  FROM cities\n",
    "    INNER JOIN countries\n",
    "    ON countries.code = cities.country_code\n",
    "GROUP BY country\n",
    "ORDER BY cities_num DESC, country\n",
    "LIMIT 9;\n",
    "```\n",
    "- Convert the GROUP BY code to use a subquery inside of SELECT by filling in the blanks to get a result that matches the one given using the GROUP BY code in the first query.\n",
    "- Again, sort the result by cities_num descending and then by country ascending.\n"
   ]
  },
  {
   "cell_type": "markdown",
   "metadata": {},
   "source": [
    "```\n",
    "/*\n",
    "SELECT countries.name AS country, COUNT(*) AS cities_num\n",
    "  FROM cities\n",
    "    INNER JOIN countries\n",
    "    ON countries.code = cities.country_code\n",
    "GROUP BY country\n",
    "ORDER BY cities_num DESC, country\n",
    "LIMIT 9;\n",
    "*/\n",
    "\n",
    "SELECT countries.name AS country,\n",
    "  -- Subquery\n",
    "  (SELECT COUNT(*)\n",
    "   FROM cities\n",
    "   WHERE countries.code = cities.country_code) AS cities_num\n",
    "FROM countries\n",
    "ORDER BY cities_num DESC, country\n",
    "LIMIT 9;\n",
    "```"
   ]
  },
  {
   "cell_type": "markdown",
   "metadata": {},
   "source": [
    "- Begin by determining for each country code how many languages are listed in the languages table using SELECT, FROM, and GROUP BY.\n",
    "- Alias the aggregated field as lang_num\n",
    "- determine the number of languages spoken for each country, identified by the country's local name!"
   ]
  },
  {
   "cell_type": "markdown",
   "metadata": {},
   "source": [
    "```\n",
    "-- Select fields (with aliases)\n",
    "SELECT code, COUNT(name) AS lang_num\n",
    "  -- From languages\n",
    "  FROM languages\n",
    "-- Group by code\n",
    "GROUP BY code;\n",
    "```"
   ]
  },
  {
   "cell_type": "markdown",
   "metadata": {},
   "source": [
    "- Include the previous query (aliased as subquery) as a subquery in the FROM clause of a new query.\n",
    "- Select the local name of the country from countries.\n",
    "- Also, select lang_num from subquery.\n",
    "- Make sure to use WHERE appropriately to match code in countries and in subquery.\n",
    "- Sort by lang_num in descending order."
   ]
  },
  {
   "cell_type": "markdown",
   "metadata": {},
   "source": [
    "```\n",
    "-- Select fields\n",
    "SELECT countries.local_name, subquery.lang_num\n",
    "  -- From countries\n",
    "  FROM countries,\n",
    "  \t-- Subquery (alias as subquery)\n",
    "  \t(SELECT code, COUNT(*) AS lang_num\n",
    "  \t FROM languages\n",
    "  \t GROUP BY code) AS subquery\n",
    "  -- Where codes match\n",
    "  WHERE countries.code = subquery.code\n",
    "-- Order by descending number of languages\n",
    "ORDER BY lang_num DESC;\n",
    "```"
   ]
  },
  {
   "cell_type": "markdown",
   "metadata": {},
   "source": [
    "- Create an INNER JOIN with countries on the left and economies on the right with USING, without aliasing your tables or columns.\n",
    "- Retrieve the country's name, continent, and inflation rate for 2015."
   ]
  },
  {
   "cell_type": "markdown",
   "metadata": {},
   "source": [
    "```\n",
    "-- Select fields\n",
    "SELECT c.name, c.continent, e.inflation_rate\n",
    "  -- From countries\n",
    "  FROM countries AS c\n",
    "  \t-- Join to economies\n",
    "  \tINNER JOIN economies AS e\n",
    "    -- Match on code\n",
    "    ON e.code = c.code\n",
    "-- Where year is 2015\n",
    "WHERE year = 2015;\n",
    "```"
   ]
  },
  {
   "cell_type": "markdown",
   "metadata": {},
   "source": [
    "Select the maximum inflation rate in 2015 AS max_inf grouped by continent using the previous step's query as a subquery in the FROM clause.\n",
    "\n",
    "Thus, in your subquery you should:\n",
    "- Create an inner join with countries on the left and economies on the right with USING (without aliasing your tables or columns).\n",
    "- Retrieve the country name, continent, and inflation rate for 2015.\n",
    "- Alias the subquery as subquery.\n",
    "This will result in the six maximum inflation rates in 2015 for the six continents as one field table. Make sure to not include continent in the outer SELECT statement."
   ]
  },
  {
   "cell_type": "markdown",
   "metadata": {},
   "source": [
    "```\n",
    "-- Select the maximum inflation rate as max_inf\n",
    "SELECT MAX(inflation_rate) AS max_inf\n",
    "  -- Subquery using FROM (alias as subquery)\n",
    "  FROM (\n",
    "      SELECT name, continent, inflation_rate\n",
    "      FROM countries\n",
    "      INNER JOIN economies\n",
    "      USING (code)\n",
    "      WHERE year = 2015) AS subquery\n",
    "-- Group by continent\n",
    "GROUP BY continent;\n",
    "```"
   ]
  },
  {
   "cell_type": "markdown",
   "metadata": {},
   "source": [
    "- Now it's time to append your second query to your first query using AND and IN to obtain the name of the country, its continent, and the maximum inflation rate for each continent in 2015.\n",
    "- For the sake of practice, change all joining conditions to use ON instead of USING."
   ]
  },
  {
   "cell_type": "markdown",
   "metadata": {},
   "source": [
    "```\n",
    "-- Select fields\n",
    "SELECT name, continent, inflation_rate\n",
    "  -- From countries\n",
    "  FROM countries\n",
    "\t-- Join to economies\n",
    "\tINNER JOIN economies\n",
    "\t-- Match on code\n",
    "\tON countries.code = economies.code\n",
    "  -- Where year is 2015\n",
    "  WHERE year = 2015\n",
    "    -- And inflation rate in subquery (alias as subquery)\n",
    "    AND inflation_rate IN (\n",
    "        SELECT MAX(inflation_rate) AS max_inf\n",
    "        FROM (\n",
    "             SELECT name, continent, inflation_rate\n",
    "             FROM countries\n",
    "             INNER JOIN economies\n",
    "             ON countries.code = economies.code\n",
    "             WHERE year = 2015) AS subquery\n",
    "      -- Group by continent\n",
    "        GROUP BY continent);\n",
    "```"
   ]
  },
  {
   "cell_type": "markdown",
   "metadata": {},
   "source": [
    "- Select the country code, inflation rate, and unemployment rate.\n",
    "- Order by inflation rate ascending.\n",
    "- Do not use table aliasing in this exercise."
   ]
  },
  {
   "cell_type": "markdown",
   "metadata": {},
   "source": [
    "```\n",
    "-- Select fields\n",
    "SELECT code, inflation_rate, unemployment_rate\n",
    "  -- From economies\n",
    "  FROM economies\n",
    "  -- Where year is 2015 and code is not in\n",
    "  WHERE year = 2015 AND code NOT IN\n",
    "  \t-- Subquery\n",
    "  \t(SELECT code\n",
    "  \t FROM countries\n",
    "  \t WHERE (gov_form = 'Constitutional Monarchy' OR gov_form LIKE '%Republic%'))\n",
    "-- Order by inflation rate\n",
    "ORDER BY inflation_rate;\n",
    "```"
   ]
  },
  {
   "cell_type": "markdown",
   "metadata": {},
   "source": [
    "Within which SQL clause are subqueries most frequently found?\n",
    "- `WHERE`"
   ]
  },
  {
   "cell_type": "markdown",
   "metadata": {},
   "source": [
    "- Select unique country names. Also select the total investment and imports fields.\n",
    "- Use a left join with countries on the left. (An inner join would also work, but please use a left join here.)\n",
    "- Match on code in the two tables AND use a subquery inside of ON to choose the appropriate languages records.\n",
    "- Order by country name ascending.\n",
    "- Use table aliasing but not field aliasing in this exercise."
   ]
  },
  {
   "cell_type": "markdown",
   "metadata": {},
   "source": [
    "```\n",
    "-- Select fields\n",
    "SELECT DISTINCT name, total_investment, imports\n",
    "  -- From table (with alias)\n",
    "  FROM countries AS c\n",
    "    -- Join with table (with alias)\n",
    "    LEFT JOIN economies AS e\n",
    "      -- Match on code\n",
    "      ON (c.code = e.code\n",
    "      -- and code in Subquery\n",
    "        AND c.code IN (\n",
    "          SELECT l.code\n",
    "          FROM languages AS l\n",
    "          WHERE official = 'true'\n",
    "        ) )\n",
    "  -- Where region and year are correct\n",
    "  WHERE year = 2015 AND region = 'Central America'\n",
    "-- Order by field\n",
    "ORDER BY name;\n",
    "```"
   ]
  },
  {
   "cell_type": "markdown",
   "metadata": {},
   "source": [
    "- Include the name of region, its continent, and average fertility rate aliased as avg_fert_rate.\n",
    "- Sort based on avg_fert_rate ascending.\n",
    "- Remember that you'll need to GROUP BY all fields that aren't included in the aggregate function of SELECT."
   ]
  },
  {
   "cell_type": "markdown",
   "metadata": {},
   "source": [
    "```\n",
    "-- Select fields\n",
    "SELECT c.region, c.continent, AVG(p.fertility_rate) AS avg_fert_rate\n",
    "  -- From left table\n",
    "  FROM countries AS c\n",
    "    -- Join to right table\n",
    "    INNER JOIN populations AS p\n",
    "      -- Match on join condition\n",
    "      ON c.code = p.country_code\n",
    "  -- Where specific records matching some condition\n",
    "  WHERE year = 2015\n",
    "-- Group appropriately\n",
    "GROUP BY 1, 2\n",
    "-- Order appropriately\n",
    "ORDER BY 3;\n",
    "```"
   ]
  },
  {
   "cell_type": "markdown",
   "metadata": {},
   "source": [
    "- Select the city name, country code, city proper population, and metro area population.\n",
    "- Calculate the percentage of metro area population composed of city proper population for each city in cities, aliased as city_perc.\n",
    "- Focus only on capital cities in Europe and the Americas in a subquery.\n",
    "- Make sure to exclude records with missing data on metro area population.\n",
    "- Order the result by city_perc descending.\n",
    "- Then determine the top 10 capital cities in Europe and the Americas in terms of this city_perc percentage."
   ]
  },
  {
   "cell_type": "markdown",
   "metadata": {},
   "source": [
    "```\n",
    "-- Select fields\n",
    "SELECT name, country_code, city_proper_pop, cities.metroarea_pop,  \n",
    "      -- Calculate city_perc\n",
    "      (city_proper_pop / metroarea_pop) * 100 AS city_perc\n",
    "  -- From appropriate table\n",
    "  FROM cities\n",
    "  -- Where \n",
    "  WHERE name IN\n",
    "    -- Subquery\n",
    "    (SELECT capital\n",
    "     FROM countries\n",
    "     WHERE (continent = 'Europe'\n",
    "        OR continent LIKE '%America%'))\n",
    "       AND metroarea_pop IS NOT NULL\n",
    "-- Order appropriately\n",
    "ORDER BY city_perc DESC\n",
    "-- Limit amount\n",
    "LIMIT 10;\n",
    "```"
   ]
  }
 ],
 "metadata": {
  "interpreter": {
   "hash": "1e949e87132dd83f1a7623eb88007e3532b03b66b77111be347aa4a383049722"
  },
  "kernelspec": {
   "display_name": "Python 3.8.11 ('env_py')",
   "language": "python",
   "name": "python3"
  },
  "language_info": {
   "name": "python",
   "version": "3.8.11"
  },
  "orig_nbformat": 4
 },
 "nbformat": 4,
 "nbformat_minor": 2
}
