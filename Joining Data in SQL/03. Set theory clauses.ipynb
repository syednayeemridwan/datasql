{
 "cells": [
  {
   "cell_type": "markdown",
   "metadata": {},
   "source": [
    "- Combine the two new tables into one table containing all of the fields in economies2010.\n",
    "- Sort this resulting single table by country code and then by year, both in ascending order."
   ]
  },
  {
   "cell_type": "markdown",
   "metadata": {},
   "source": [
    "```\n",
    "-- Select fields from 2010 table\n",
    "SELECT *\n",
    "  -- From 2010 table\n",
    "  FROM economies2010\n",
    "\t-- Set theory clause\n",
    "\tUNION\n",
    "-- Select fields from 2015 table\n",
    "SELECT *\n",
    "  -- From 2015 table\n",
    "  FROM economies2015\n",
    "-- Order by code and year\n",
    "ORDER BY code, year;\n",
    "```"
   ]
  },
  {
   "cell_type": "markdown",
   "metadata": {},
   "source": [
    "- Determine all (non-duplicated) country codes in either the cities or the currencies table. The result should be a table with only one field called country_code.\n",
    "- Sort by country_code in alphabetical order."
   ]
  },
  {
   "cell_type": "markdown",
   "metadata": {},
   "source": [
    "```\n",
    "-- Select field\n",
    "SELECT country_code\n",
    "  -- From cities\n",
    "  FROM cities\n",
    "\t-- Set theory clause\n",
    "\tUNION\n",
    "-- Select field\n",
    "SELECT code\n",
    "  -- From currencies\n",
    "  FROM currencies\n",
    "-- Order by country_code\n",
    "ORDER BY country_code;\n",
    "```"
   ]
  },
  {
   "cell_type": "markdown",
   "metadata": {},
   "source": [
    "- Determine all combinations (include duplicates) of country code and year that exist in either the economies or the populations tables. Order by code then year.\n",
    "- The result of the query should only have two columns/fields. Think about how many records this query should result in.\n",
    "- You'll use code very similar to this in your next exercise after the video. Make note of this code after completing it."
   ]
  },
  {
   "cell_type": "markdown",
   "metadata": {},
   "source": [
    "```\n",
    "-- Select fields\n",
    "SELECT code, year\n",
    "  -- From economies\n",
    "  FROM economies\n",
    "\t-- Set theory clause\n",
    "\tUNION ALL\n",
    "-- Select fields\n",
    "SELECT country_code, year\n",
    "  -- From populations\n",
    "  FROM populations\n",
    "-- Order by code, year\n",
    "ORDER BY code, year;\n",
    "```"
   ]
  },
  {
   "cell_type": "markdown",
   "metadata": {},
   "source": [
    "- Use INTERSECT to determine the records in common for country code and year for the economies and populations tables.\n",
    "- Again, order by code and then by year, both in ascending order."
   ]
  },
  {
   "cell_type": "markdown",
   "metadata": {},
   "source": [
    "```\n",
    "-- Select fields\n",
    "SELECT code, year\n",
    "  -- From economies\n",
    "  FROM economies\n",
    "\t-- Set theory clause\n",
    "\tINTERSECT\n",
    "-- Select fields\n",
    "SELECT country_code, year\n",
    "  -- From populations\n",
    "  FROM populations\n",
    "-- Order by code and year\n",
    "ORDER BY code, year;\n",
    "```"
   ]
  },
  {
   "cell_type": "markdown",
   "metadata": {},
   "source": [
    "Use INTERSECT to answer this question with countries and cities!:\n",
    "- which countries also have a city with the same name as their country name?"
   ]
  },
  {
   "cell_type": "markdown",
   "metadata": {},
   "source": [
    "```\n",
    "-- Select fields\n",
    "SELECT name\n",
    "  -- From countries\n",
    "  FROM countries\n",
    "\t-- Set theory clause\n",
    "\tINTERSECT\n",
    "-- Select fields\n",
    "SELECT name\n",
    "  -- From cities\n",
    "  FROM cities;\n",
    "```"
   ]
  },
  {
   "cell_type": "markdown",
   "metadata": {},
   "source": [
    "- Order the resulting field in ascending order.\n",
    "- Can you spot the city/cities that are actually capital cities which this query misses?"
   ]
  },
  {
   "cell_type": "markdown",
   "metadata": {},
   "source": [
    "```\n",
    "-- Select field\n",
    "SELECT name\n",
    "  -- From cities\n",
    "  FROM cities\n",
    "\t-- Set theory clause\n",
    "\tEXCEPT\n",
    "-- Select field\n",
    "SELECT capital\n",
    "  -- From countries\n",
    "  FROM countries\n",
    "-- Order by result\n",
    "ORDER BY name;\n",
    "```"
   ]
  },
  {
   "cell_type": "markdown",
   "metadata": {},
   "source": [
    "- Determine the names of capital cities that are not listed in the cities table.\n",
    "- Order by capital in ascending order.\n",
    "- The cities table contains information about 236 of the world's most populous cities. The result of your query may surprise you in terms of the number of capital cities that do not appear in this list!"
   ]
  },
  {
   "cell_type": "markdown",
   "metadata": {},
   "source": [
    "```\n",
    "-- Select field\n",
    "SELECT capital\n",
    "  -- From countries\n",
    "  FROM countries\n",
    "\t-- Set theory clause\n",
    "\tEXCEPT\n",
    "-- Select field\n",
    "SELECT name\n",
    "  -- From cities\n",
    "  FROM cities\n",
    "-- Order by ascending capital\n",
    "ORDER BY capital;\n",
    "```"
   ]
  },
  {
   "cell_type": "markdown",
   "metadata": {},
   "source": [
    "- Begin by selecting all country codes in the Middle East as a single field result using SELECT, FROM, and WHERE."
   ]
  },
  {
   "cell_type": "markdown",
   "metadata": {},
   "source": [
    "```\n",
    "-- Select code\n",
    "SELECT code\n",
    "  -- From countries\n",
    "  FROM countries\n",
    "-- Where region is Middle East\n",
    "WHERE region LIKE '%Middle East%';\n",
    "```"
   ]
  },
  {
   "cell_type": "markdown",
   "metadata": {},
   "source": [
    "- Below the commented code, select only unique languages by name appearing in the languages table.\n",
    "- Order the resulting single field table by name in ascending order."
   ]
  },
  {
   "cell_type": "markdown",
   "metadata": {},
   "source": [
    "```\n",
    "-- Query from step 1:\n",
    "/*\n",
    "SELECT code\n",
    "  FROM countries\n",
    "WHERE region = 'Middle East';\n",
    "*/\n",
    "\n",
    "-- Select field\n",
    "SELECT DISTINCT(name)\n",
    "  -- From languages\n",
    "  FROM languages\n",
    "-- Order by name\n",
    "ORDER BY name;\n",
    "```"
   ]
  },
  {
   "cell_type": "markdown",
   "metadata": {},
   "source": [
    "- Combine the previous two queries into one query by adding a WHERE IN statement to the SELECT DISTINCT query to determine the unique languages spoken in the Middle East.\n",
    "- Order the result by name in ascending order."
   ]
  },
  {
   "cell_type": "markdown",
   "metadata": {},
   "source": [
    "```\n",
    "-- Query from step 2\n",
    "SELECT DISTINCT name\n",
    "  FROM languages\n",
    "-- Where in statement\n",
    "WHERE code IN\n",
    "  -- Query from step 1\n",
    "  -- Subquery\n",
    "  (SELECT code\n",
    "   FROM countries\n",
    "   WHERE region = 'Middle East')\n",
    "-- Order by name\n",
    "ORDER BY name;\n",
    "```"
   ]
  },
  {
   "cell_type": "markdown",
   "metadata": {},
   "source": [
    "Let's revisit the code from the previous exercise, which retrieves languages spoken in the Middle East.\n",
    "```\n",
    "SELECT DISTINCT name\n",
    "FROM languages\n",
    "WHERE code IN\n",
    "  (SELECT code\n",
    "   FROM countries\n",
    "   WHERE region = 'Middle East')\n",
    "ORDER BY name;\n",
    "```\n",
    "Sometimes problems solved with semi-joins can also be solved using an inner join.\n",
    "```\n",
    "SELECT languages.name AS language\n",
    "FROM languages\n",
    "INNER JOIN countries\n",
    "ON languages.code = countries.code\n",
    "WHERE region = 'Middle East'\n",
    "ORDER BY language;\n",
    "```\n",
    "This inner join isn't quite right. What is missing from this second code block to get it to match with the correct answer produced by the first block?"
   ]
  },
  {
   "cell_type": "markdown",
   "metadata": {},
   "source": [
    "- `DISTINCT`"
   ]
  },
  {
   "cell_type": "markdown",
   "metadata": {},
   "source": [
    "- Begin by determining the number of countries in countries that are listed in Oceania using SELECT, FROM, and WHERE."
   ]
  },
  {
   "cell_type": "markdown",
   "metadata": {},
   "source": [
    "```\n",
    "-- Select statement\n",
    "SELECT COUNT(*)\n",
    "  -- From countries\n",
    "  FROM countries\n",
    "-- Where continent is Oceania\n",
    "WHERE continent = 'Oceania';\n",
    "```"
   ]
  },
  {
   "cell_type": "markdown",
   "metadata": {},
   "source": [
    "- Complete an inner join with countries AS c1 on the left and currencies AS c2 on the right to get the different currencies used in the countries of Oceania.\n",
    "- Match ON the code field in the two tables.\n",
    "- Include the country code, country name, and basic_unit AS currency."
   ]
  },
  {
   "cell_type": "markdown",
   "metadata": {},
   "source": [
    "```\n",
    "-- Select fields (with aliases)\n",
    "SELECT c1.code, c1.name, basic_unit AS currency\n",
    "  -- From countries (alias as c1)\n",
    "  FROM countries AS c1\n",
    "  \t-- Join with currencies (alias as c2)\n",
    "  \tINNER JOIN currencies AS c2\n",
    "    -- Match on code\n",
    "    ON c1.code = c2.code\n",
    "-- Where continent is Oceania\n",
    "WHERE continent = 'Oceania';\n",
    "```"
   ]
  },
  {
   "cell_type": "markdown",
   "metadata": {},
   "source": [
    "Note that not all countries in Oceania were listed in the resulting inner join with currencies. Use an anti-join to determine which countries were not included!\n",
    "- Use NOT IN and (SELECT code FROM currencies) as a subquery to get the country code and country name for the Oceanian countries that are not included in the currencies table."
   ]
  },
  {
   "cell_type": "markdown",
   "metadata": {},
   "source": [
    "```\n",
    "-- Select fields\n",
    "SELECT code, name\n",
    "  -- From Countries\n",
    "  FROM countries\n",
    "  -- Where continent is Oceania\n",
    "  WHERE continent = 'Oceania'\n",
    "  \t-- And code not in\n",
    "  \tAND code NOT IN\n",
    "  \t-- Subquery\n",
    "  \t(SELECT code\n",
    "  \t FROM currencies);\n",
    "```"
   ]
  },
  {
   "cell_type": "markdown",
   "metadata": {},
   "source": [
    "- Identify the country codes that are included in either economies or currencies but not in populations.\n",
    "- Use that result to determine the names of cities in the countries that match the specification in the previous instruction."
   ]
  },
  {
   "cell_type": "markdown",
   "metadata": {},
   "source": [
    "```\n",
    "-- Select the city name\n",
    "SELECT name\n",
    "  -- Alias the table where city name resides\n",
    "  FROM cities AS c1\n",
    "  -- Choose only records matching the result of multiple set theory clauses\n",
    "  WHERE country_code IN\n",
    "(\n",
    "    -- Select appropriate field from economies AS e\n",
    "    SELECT e.code\n",
    "    FROM economies AS e\n",
    "    -- Get all additional (unique) values of the field from currencies AS c2  \n",
    "    UNION\n",
    "    SELECT c2.code\n",
    "    FROM currencies AS c2 \n",
    "    -- Exclude those appearing in populations AS p\n",
    "    EXCEPT\n",
    "    SELECT p.country_code\n",
    "    FROM populations AS p\n",
    ");\n",
    "```"
   ]
  }
 ],
 "metadata": {
  "interpreter": {
   "hash": "1e949e87132dd83f1a7623eb88007e3532b03b66b77111be347aa4a383049722"
  },
  "kernelspec": {
   "display_name": "Python 3.8.11 ('env_py')",
   "language": "python",
   "name": "python3"
  },
  "language_info": {
   "name": "python",
   "version": "3.8.11"
  },
  "orig_nbformat": 4
 },
 "nbformat": 4,
 "nbformat_minor": 2
}
