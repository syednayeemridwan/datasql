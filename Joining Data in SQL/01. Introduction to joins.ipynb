{
 "cells": [
  {
   "cell_type": "markdown",
   "metadata": {},
   "source": [
    "- Begin by selecting all columns from the cities table."
   ]
  },
  {
   "cell_type": "markdown",
   "metadata": {},
   "source": [
    "```\n",
    "-- Select all columns from cities\n",
    "SELECT\n",
    "    *\n",
    "FROM\n",
    "    cities    \n",
    "```"
   ]
  },
  {
   "cell_type": "markdown",
   "metadata": {},
   "source": [
    "- Inner join the cities table on the left to the countries table on the right, keeping all of the fields in both tables.\n",
    "- You should match the tables on the country_code field in cities and the code field in countries.\n",
    "- Do not alias your tables here or in the next step. Using cities and countries is fine for now."
   ]
  },
  {
   "cell_type": "markdown",
   "metadata": {},
   "source": [
    "```\n",
    "SELECT * \n",
    "FROM cities\n",
    "  -- Inner join to countries\n",
    "  INNER JOIN countries\n",
    "    -- Match on the country codes\n",
    "    ON cities.country_code = countries.code;\n",
    "```"
   ]
  },
  {
   "cell_type": "markdown",
   "metadata": {},
   "source": [
    "- Modify the SELECT statement to keep only the name of the city, the name of the country, and the name of the region the country resides in.\n",
    "- Alias the name of the city AS city and the name of the country AS country."
   ]
  },
  {
   "cell_type": "markdown",
   "metadata": {},
   "source": [
    "```\n",
    "-- Select name fields (with alias) and region \n",
    "SELECT cities.name AS city, countries.name AS country, countries.region\n",
    "FROM cities\n",
    "  INNER JOIN countries\n",
    "    ON cities.country_code = countries.code;\n",
    "```"
   ]
  },
  {
   "cell_type": "markdown",
   "metadata": {},
   "source": [
    "- Join the tables countries (left) and economies (right) aliasing countries AS c and economies AS e.\n",
    "- Specify the field to match the tables ON.\n",
    "- From this join, SELECT:\n",
    "- c.code, aliased as country_code.\n",
    "- name, year, and inflation_rate, not aliased."
   ]
  },
  {
   "cell_type": "markdown",
   "metadata": {},
   "source": [
    "```\n",
    "-- Select fields with aliases\n",
    "SELECT c.code AS country_code, name, year, inflation_rate\n",
    "FROM countries AS c\n",
    "  -- Join to economies (alias e)\n",
    "  INNER JOIN economies AS e\n",
    "    -- Match on code\n",
    "    ON c.code = e.code;\n",
    "```"
   ]
  },
  {
   "cell_type": "markdown",
   "metadata": {},
   "source": [
    "- Inner join countries (left) and populations (right) on the code and country_code fields respectively.\n",
    "- Alias countries AS c and populations AS p.\n",
    "- Select code, name, and region from countries and also select year and fertility_rate from populations (5 fields in total).\n",
    "- Add an additional INNER JOIN with economies to your previous query by joining on code.\n",
    "- Include the unemployment_rate column that became available through joining with economies.\n",
    "- Note that year appears in both populations and economies, so you have to explicitly use e.year instead of year as you did before.\n",
    "- Scroll down the query result and take a look at the results for Albania from your previous query. Does something seem off to you?\n",
    "- The trouble with doing your last join on c.code = e.code and not also including year is that e.g. the 2010 value for fertility_rate is also paired with the 2015 value for unemployment_rate.\n",
    "- Fix your previous query: in your last ON clause, use AND to add an additional joining condition. In addition to joining on code in c and e, also join on year in e and p."
   ]
  },
  {
   "cell_type": "markdown",
   "metadata": {},
   "source": [
    "```\n",
    "-- Select fields\n",
    "SELECT c.code, c.name, c.region, e.year, p.fertility_rate, e.unemployment_rate\n",
    "  -- From countries (alias as c)\n",
    "  FROM countries AS c\n",
    "  -- Join with populations (as p)\n",
    "  INNER JOIN populations AS p\n",
    "    -- Match on country code\n",
    "    ON c.code = p.country_code\n",
    "  -- Join to economies (as e)\n",
    "  INNER JOIN economies AS e\n",
    "    -- Match on country code\n",
    "    ON c.code = e.code\n",
    "    -- Match on country code and year\n",
    "    WHERE e.year = p.year;\n",
    "```"
   ]
  },
  {
   "cell_type": "markdown",
   "metadata": {},
   "source": [
    "- Inner join countries on the left and languages on the right with USING(code).\n",
    "- Select the fields corresponding to:\n",
    "- country name AS country,\n",
    "- continent name,\n",
    "- language name AS language, and\n",
    "- whether or not the language is official."
   ]
  },
  {
   "cell_type": "markdown",
   "metadata": {},
   "source": [
    "```\n",
    "-- Select fields\n",
    "SELECT c.name AS country, c.continent, l.name AS language, l.official\n",
    "  -- From countries (alias as c)\n",
    "  FROM countries AS c\n",
    "  -- Join to languages (as l)\n",
    "  INNER JOIN languages AS l\n",
    "    -- Match using code\n",
    "    USING (code) \n",
    "```"
   ]
  },
  {
   "cell_type": "markdown",
   "metadata": {},
   "source": [
    "- Join populations with itself ON country_code.\n",
    "- Select the country_code from p1 and the size field from both p1 and p2. SQL won't allow same-named fields, so alias p1.size as size2010 and p2.size as size2015."
   ]
  },
  {
   "cell_type": "markdown",
   "metadata": {},
   "source": [
    "```\n",
    "-- Select fields with aliases\n",
    "SELECT\n",
    "p1.country_code, p1.size AS size2010, p2.size AS size2015\n",
    "FROM\n",
    "-- From populations (alias as p1)\n",
    "populations AS p1\n",
    "  -- Join to itself (alias as p2)\n",
    "  INNER JOIN populations AS p2\n",
    "    -- Match on country code\n",
    "    USING(country_code)\n",
    "```"
   ]
  },
  {
   "cell_type": "markdown",
   "metadata": {},
   "source": [
    "- Notice from the result that for each country_code you have four entries laying out all combinations of 2010 and 2015.\n",
    "- Extend the ON in your query to include only those records where the p1.year (2010) matches with p2.year - 5 (2015 - 5 = 2010). This will omit the three entries per country_code that you aren't interested in."
   ]
  },
  {
   "cell_type": "markdown",
   "metadata": {},
   "source": [
    "```\n",
    "-- Select fields with aliases\n",
    "SELECT p1.country_code,\n",
    "       p1.size AS size2010,\n",
    "       p2.size AS size2015\n",
    "-- From populations (alias as p1)\n",
    "FROM populations as p1\n",
    "  -- Join to itself (alias as p2)\n",
    "  INNER JOIN populations as p2\n",
    "    -- Match on country code\n",
    "    ON p1.country_code = p2.country_code\n",
    "        -- and year (with calculation)\n",
    "        AND p1.year = p2.year - 5\n",
    "```"
   ]
  },
  {
   "cell_type": "markdown",
   "metadata": {},
   "source": [
    "As you just saw, you can also use SQL to calculate values like p2.year - 5 for you. With two fields like size2010 and size2015, you may want to determine the percentage increase from one field to the next\n",
    "- Add a new field to SELECT, aliased as growth_perc, that calculates the percentage population growth from 2010 to 2015 for each country, using p2.size and p1.size."
   ]
  },
  {
   "cell_type": "markdown",
   "metadata": {},
   "source": [
    "```\n",
    "-- Select fields with aliases\n",
    "SELECT p1.country_code,\n",
    "       p1.size AS size2010, \n",
    "       p2.size AS size2015,\n",
    "       -- Calculate growth_perc\n",
    "       ((p2.size - p1.size)/p1.size * 100.0) AS growth_perc\n",
    "-- From populations (alias as p1)\n",
    "FROM populations AS p1\n",
    "  -- Join to itself (alias as p2)\n",
    "  INNER JOIN populations AS p2\n",
    "    -- Match on country code\n",
    "    ON p1.country_code = p2.country_code\n",
    "        -- and year (with calculation)\n",
    "        AND p1.year = p2.year - 5;\n",
    "```"
   ]
  },
  {
   "cell_type": "markdown",
   "metadata": {},
   "source": [
    "Using the countries table, create a new field AS geosize_group that groups the countries into three groups:\n",
    "\n",
    "- If surface_area is greater than 2 million, geosize_group is 'large'.\n",
    "- If surface_area is greater than 350 thousand but not larger than 2 million, geosize_group is 'medium'.\n",
    "- Otherwise, geosize_group is 'small'."
   ]
  },
  {
   "cell_type": "markdown",
   "metadata": {},
   "source": [
    "```\n",
    "SELECT name, continent, code, surface_area,\n",
    "    -- First case\n",
    "    CASE WHEN surface_area > 2000000 THEN 'large'\n",
    "        -- Second case\n",
    "        WHEN surface_area > 350000 THEN 'medium'\n",
    "        -- Else clause + end\n",
    "        ELSE 'small' END\n",
    "        -- Alias name\n",
    "        AS geosize_group\n",
    "-- From table\n",
    "FROM countries;\n",
    "```"
   ]
  },
  {
   "cell_type": "markdown",
   "metadata": {},
   "source": [
    "Using the populations table focused only for the year 2015, create a new field aliased as popsize_group to organize population size into\n",
    "\n",
    "- 'large' (> 50 million),\n",
    "- 'medium' (> 1 million), and\n",
    "- 'small' groups.\n",
    "- Select only the country code, population size, and this new popsize_group as fields."
   ]
  },
  {
   "cell_type": "markdown",
   "metadata": {},
   "source": [
    "```\n",
    "SELECT country_code, size,\n",
    "    -- First case\n",
    "    CASE WHEN size > 50000000 THEN 'large'\n",
    "        -- Second case\n",
    "        WHEN size > 1000000 THEN 'medium'\n",
    "        -- Else clause + end\n",
    "        ELSE 'small' END\n",
    "        -- Alias name (popsize_group)\n",
    "        AS popsize_group\n",
    "-- From table\n",
    "FROM populations\n",
    "-- Focus on 2015\n",
    "WHERE year = 2015;\n",
    "```"
   ]
  },
  {
   "cell_type": "markdown",
   "metadata": {},
   "source": [
    "- Use INTO to save the result of the previous query as pop_plus. You can see an example of this in the countries_plus code in the assignment text. Make sure to include a ; at the end of your WHERE clause!\n",
    "- Then, include another query below your first query to display all the records in pop_plus using SELECT * FROM pop_plus; so that you generate results and this will display pop_plus in the query result."
   ]
  },
  {
   "cell_type": "markdown",
   "metadata": {},
   "source": [
    "```\n",
    "SELECT country_code, size,\n",
    "    CASE WHEN size > 50000000 THEN 'large'\n",
    "        WHEN size > 1000000 THEN 'medium'\n",
    "        ELSE 'small' END\n",
    "        AS popsize_group\n",
    "-- Into table\n",
    "INTO pop_plus\n",
    "FROM populations\n",
    "WHERE year = 2015;\n",
    "\n",
    "-- Select all columns of pop_plus\n",
    "SELECT * FROM pop_plus\n",
    "```"
   ]
  },
  {
   "cell_type": "markdown",
   "metadata": {},
   "source": [
    "- Keep the first query intact that creates pop_plus using INTO.\n",
    "- Write a query to join countries_plus AS c on the left with pop_plus AS p on the right matching on the country code fields.\n",
    "- Sort the data based on geosize_group, in ascending order so that large appears on top.\n",
    "- Select the name, continent, geosize_group, and popsize_group fields."
   ]
  },
  {
   "cell_type": "markdown",
   "metadata": {},
   "source": [
    "```\n",
    "SELECT country_code, size,\n",
    "  CASE WHEN size > 50000000\n",
    "            THEN 'large'\n",
    "       WHEN size > 1000000\n",
    "            THEN 'medium'\n",
    "       ELSE 'small' END\n",
    "       AS popsize_group\n",
    "INTO pop_plus       \n",
    "FROM populations\n",
    "WHERE year = 2015;\n",
    "\n",
    "-- Select fields\n",
    "SELECT name, continent, geosize_group, popsize_group\n",
    "-- From countries_plus (alias as c)\n",
    "FROM countries_plus AS c\n",
    "  -- Join to pop_plus (alias as p)\n",
    "  INNER JOIN pop_plus AS p\n",
    "    -- Match on country code\n",
    "    ON c.code = p.country_code\n",
    "-- Order the table    \n",
    "ORDER BY geosize_group;\n",
    "```"
   ]
  },
  {
   "cell_type": "markdown",
   "metadata": {},
   "source": []
  }
 ],
 "metadata": {
  "interpreter": {
   "hash": "1e949e87132dd83f1a7623eb88007e3532b03b66b77111be347aa4a383049722"
  },
  "kernelspec": {
   "display_name": "Python 3.8.11 ('env_py')",
   "language": "python",
   "name": "python3"
  },
  "language_info": {
   "name": "python",
   "version": "3.8.11"
  },
  "orig_nbformat": 4
 },
 "nbformat": 4,
 "nbformat_minor": 2
}
