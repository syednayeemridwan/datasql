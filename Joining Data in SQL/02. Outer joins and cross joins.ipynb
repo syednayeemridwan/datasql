{
 "cells": [
  {
   "cell_type": "markdown",
   "metadata": {},
   "source": [
    "- Fill in the code based on the instructions in the code comments to complete the inner join. Note how many records are in the result of the join in the query result."
   ]
  },
  {
   "cell_type": "markdown",
   "metadata": {},
   "source": [
    "```\n",
    "-- Select the city name (with alias), the country code,\n",
    "-- the country name (with alias), the region,\n",
    "-- and the city proper population\n",
    "SELECT c1.name AS city, code, c2.name AS country,\n",
    "       region, city_proper_pop\n",
    "-- From left table (with alias)\n",
    "FROM cities AS c1\n",
    "  -- Join to right table (with alias)\n",
    "  INNER JOIN countries AS c2\n",
    "    -- Match on country code\n",
    "    ON c1.country_code = c2.code\n",
    "-- Order by descending country code\n",
    "ORDER BY code DESC;\n",
    "```"
   ]
  },
  {
   "cell_type": "markdown",
   "metadata": {},
   "source": [
    "- Change the code to perform a LEFT JOIN instead of an INNER JOIN. After executing this query, note how many records the query result contains."
   ]
  },
  {
   "cell_type": "markdown",
   "metadata": {},
   "source": [
    "```\n",
    "SELECT c1.name AS city, code, c2.name AS country,\n",
    "       region, city_proper_pop\n",
    "FROM cities AS c1\n",
    "  -- Join right table (with alias)\n",
    "  LEFT JOIN countries AS c2\n",
    "    -- Match on country code\n",
    "    ON c1.country_code = c2.code\n",
    "-- Order by descending country code\n",
    "ORDER BY code DESC;\n",
    "```"
   ]
  },
  {
   "cell_type": "markdown",
   "metadata": {},
   "source": [
    "- Perform an inner join and alias the name of the country field as country and the name of the language field as language.\n",
    "- Sort based on descending country name."
   ]
  },
  {
   "cell_type": "markdown",
   "metadata": {},
   "source": [
    "```\n",
    "/*\n",
    "Select country name AS country, the country's local name,\n",
    "the language name AS language, and\n",
    "the percent of the language spoken in the country\n",
    "*/\n",
    "SELECT c.name AS country, local_name, l.name AS language, percent\n",
    "-- From left table (alias as c)\n",
    "FROM countries AS c\n",
    "  -- Join to right table (alias as l)\n",
    "  INNER JOIN languages AS l\n",
    "    -- Match on fields\n",
    "    ON c.code = l.code\n",
    "-- Order by descending country\n",
    "ORDER BY country DESC;\n",
    "```"
   ]
  },
  {
   "cell_type": "markdown",
   "metadata": {},
   "source": [
    "- Perform a left join instead of an inner join. Observe the result, and also note the change in the number of records in the result.\n",
    "- Carefully review which records appear in the left join result, but not in the inner join result."
   ]
  },
  {
   "cell_type": "markdown",
   "metadata": {},
   "source": [
    "```\n",
    "/*\n",
    "Select country name AS country, the country's local name,\n",
    "the language name AS language, and\n",
    "the percent of the language spoken in the country\n",
    "*/\n",
    "SELECT c.name AS country, local_name, l.name AS language, percent\n",
    "-- From left table (alias as c)\n",
    "FROM countries AS c\n",
    "  -- Join to right table (alias as l)\n",
    "  LEFT JOIN languages AS l\n",
    "    -- Match on fields\n",
    "    ON c.code = l.code\n",
    "-- Order by descending country\n",
    "ORDER BY country DESC;\n",
    "```"
   ]
  },
  {
   "cell_type": "markdown",
   "metadata": {},
   "source": [
    "- Begin with a left join with the countries table on the left and the economies table on the right.\n",
    "- Focus only on records with 2010 as the year."
   ]
  },
  {
   "cell_type": "markdown",
   "metadata": {},
   "source": [
    "```\n",
    "-- Select name, region, and gdp_percapita\n",
    "SELECT name, region, gdp_percapita\n",
    "-- From countries (alias as c)\n",
    "FROM countries AS c\n",
    "  -- Left join with economies (alias as e)\n",
    "  LEFT JOIN economies AS e\n",
    "    -- Match on code fields\n",
    "    ON c.code = e.code\n",
    "-- Focus on 2010\n",
    "WHERE year = 2010;\n",
    "```"
   ]
  },
  {
   "cell_type": "markdown",
   "metadata": {},
   "source": [
    "- Modify your code to calculate the average GDP per capita AS avg_gdp for each region in 2010.\n",
    "- Select the region and avg_gdp fields."
   ]
  },
  {
   "cell_type": "markdown",
   "metadata": {},
   "source": [
    "```\n",
    "-- Select fields\n",
    "SELECT region, AVG(gdp_percapita) AS avg_gdp\n",
    "-- From countries (alias as c)\n",
    "FROM countries AS c\n",
    "  -- Left join with economies (alias as e)\n",
    "  LEFT JOIN economies AS e\n",
    "    -- Match on code fields\n",
    "    ON c.code = e.code\n",
    "-- Focus on 2010\n",
    "WHERE year = 2010\n",
    "-- Group by region\n",
    "GROUP BY region;\n",
    "```"
   ]
  },
  {
   "cell_type": "markdown",
   "metadata": {},
   "source": [
    "- Arrange this data on average GDP per capita for each region in 2010 from highest to lowest average GDP per capita."
   ]
  },
  {
   "cell_type": "markdown",
   "metadata": {},
   "source": [
    "```\n",
    "-- Select fields\n",
    "SELECT region, AVG(gdp_percapita) AS avg_gdp\n",
    "-- From countries (alias as c)\n",
    "FROM countries AS c\n",
    "  -- Left join with economies (alias as e)\n",
    "  LEFT JOIN economies AS e\n",
    "    -- Match on code fields\n",
    "    ON c.code = e.code\n",
    "-- Focus on 2010\n",
    "WHERE year = 2010\n",
    "-- Group by region\n",
    "GROUP BY region\n",
    "-- Order by descending avg_gdp\n",
    "ORDER BY avg_gdp DESC;\n",
    "```"
   ]
  },
  {
   "cell_type": "markdown",
   "metadata": {},
   "source": [
    "The left join code is commented out here. Your task is to write a new query using rights joins that produces the same result as what the query using left joins produces. Keep this left joins code commented as you write your own query just below it using right joins to solve the problem.\n",
    "\n",
    "Note the order of the joins matters in your conversion to using right joins!\n",
    "```\n",
    "-- convert this code to use RIGHT JOINs instead of LEFT JOINs\n",
    "/*\n",
    "SELECT cities.name AS city, urbanarea_pop, countries.name AS country,\n",
    "       indep_year, languages.name AS language, percent\n",
    "FROM cities\n",
    "  LEFT JOIN countries\n",
    "    ON cities.country_code = countries.code\n",
    "  LEFT JOIN languages\n",
    "    ON countries.code = languages.code\n",
    "ORDER BY city, language;\n",
    "*/\n",
    "\n",
    "```"
   ]
  },
  {
   "cell_type": "markdown",
   "metadata": {},
   "source": [
    "Corrected Code:\n",
    "```\n",
    "SELECT cities.name AS city, urbanarea_pop, countries.name AS country,\n",
    "       indep_year, languages.name AS language, percent\n",
    "FROM languages\n",
    "  RIGHT JOIN countries\n",
    "    ON countries.code = languages.code\n",
    "  RIGHT JOIN cities\n",
    "    ON cities.country_code = countries.code\n",
    "ORDER BY city, language;\n",
    "```"
   ]
  },
  {
   "cell_type": "markdown",
   "metadata": {},
   "source": [
    "- Choose records in which region corresponds to North America or is NULL."
   ]
  },
  {
   "cell_type": "markdown",
   "metadata": {},
   "source": [
    "```\n",
    "SELECT name AS country, code, region, basic_unit\n",
    "-- From countries\n",
    "FROM countries\n",
    "  -- Join to currencies\n",
    "  FULL JOIN currencies\n",
    "    -- Match on code\n",
    "    USING (code)\n",
    "-- Where region is North America or null\n",
    "WHERE region = 'North America' OR region IS NULL\n",
    "-- Order by region\n",
    "ORDER BY region;\n",
    "```"
   ]
  },
  {
   "cell_type": "markdown",
   "metadata": {},
   "source": [
    "- Repeat the same query as before, using a LEFT JOIN instead of a FULL JOIN. Note what has changed compared to the FULL JOIN result!"
   ]
  },
  {
   "cell_type": "markdown",
   "metadata": {},
   "source": [
    "```\n",
    "SELECT name AS country, code, region, basic_unit\n",
    "-- From countries\n",
    "FROM countries\n",
    "  -- Join to currencies\n",
    "  LEFT JOIN currencies\n",
    "    -- Match on code\n",
    "    USING (code)\n",
    "-- Where region is North America or null\n",
    "WHERE region = 'North America' OR region IS NULL\n",
    "-- Order by region\n",
    "ORDER BY region;\n",
    "```"
   ]
  },
  {
   "cell_type": "markdown",
   "metadata": {},
   "source": [
    "- Repeat the same query again but use an INNER JOIN instead of a FULL JOIN. Note what has changed compared to the FULL JOIN and LEFT JOIN results!"
   ]
  },
  {
   "cell_type": "markdown",
   "metadata": {},
   "source": [
    "```\n",
    "SELECT name AS country, code, region, basic_unit\n",
    "-- From countries\n",
    "FROM countries\n",
    "  -- Join to currencies\n",
    "  INNER JOIN currencies\n",
    "    -- Match on code\n",
    "    USING (code)\n",
    "-- Where region is North America or null\n",
    "WHERE region = 'North America' OR region IS NULL\n",
    "-- Order by region\n",
    "ORDER BY region;\n",
    "```"
   ]
  },
  {
   "cell_type": "markdown",
   "metadata": {},
   "source": [
    "- Choose records in which countries.name starts with the capital letter 'V' or is NULL.\n",
    "- Arrange by countries.name in ascending order to more clearly see the results."
   ]
  },
  {
   "cell_type": "markdown",
   "metadata": {},
   "source": [
    "```\n",
    "SELECT countries.name, code, languages.name AS language\n",
    "-- From languages\n",
    "FROM languages\n",
    "  -- Join to countries\n",
    "  FULL JOIN countries\n",
    "    -- Match on code\n",
    "    USING (code)\n",
    "-- Where countries.name starts with V or is null\n",
    "WHERE countries.name LIKE 'V%' OR countries.name IS NULL\n",
    "-- Order by ascending countries.name\n",
    "ORDER BY countries.name;\n",
    "```"
   ]
  },
  {
   "cell_type": "markdown",
   "metadata": {},
   "source": [
    "- Repeat the same query as before, using a LEFT JOIN instead of a FULL JOIN. Note what has changed compared to the FULL JOIN result!"
   ]
  },
  {
   "cell_type": "markdown",
   "metadata": {},
   "source": [
    "```\n",
    "SELECT countries.name, code, languages.name AS language\n",
    "-- From languages\n",
    "FROM languages\n",
    "  -- Join to countries\n",
    "  LEFT JOIN countries\n",
    "    -- Match on code\n",
    "    USING (code)\n",
    "-- Where countries.name starts with V or is null\n",
    "WHERE countries.name LIKE 'V%' OR countries.name IS NULL\n",
    "-- Order by ascending countries.name\n",
    "ORDER BY countries.name;\n",
    "```"
   ]
  },
  {
   "cell_type": "markdown",
   "metadata": {},
   "source": [
    "- Repeat once more, but use an INNER JOIN instead of a LEFT JOIN. Note what has changed compared to the FULL JOIN and LEFT JOIN results."
   ]
  },
  {
   "cell_type": "markdown",
   "metadata": {},
   "source": [
    "```\n",
    "SELECT countries.name, code, languages.name AS language\n",
    "-- From languages\n",
    "FROM languages\n",
    "  -- Join to countries\n",
    "  INNER JOIN countries\n",
    "    -- Match on code\n",
    "    USING (code)\n",
    "-- Where countries.name starts with V or is null\n",
    "WHERE countries.name LIKE 'V%' OR countries.name IS NULL\n",
    "-- Order by ascending countries.name\n",
    "ORDER BY countries.name;\n",
    "```"
   ]
  },
  {
   "cell_type": "markdown",
   "metadata": {},
   "source": [
    "- Complete a full join with countries on the left and languages on the right.\n",
    "- Next, full join this result with currencies on the right.\n",
    "- Use LIKE to choose the Melanesia and Micronesia regions (Hint: 'M%esia').\n",
    "- Select the fields corresponding to the country name AS country, region, language name AS language, and basic and fractional units of currency."
   ]
  },
  {
   "cell_type": "markdown",
   "metadata": {},
   "source": [
    "```\n",
    "-- Select fields (with aliases)\n",
    "SELECT c1.name AS country, region, l.name AS language,\n",
    "       basic_unit, frac_unit\n",
    "-- From countries (alias as c1)\n",
    "FROM countries AS c1\n",
    "  -- Join with languages (alias as l)\n",
    "  FULL JOIN languages AS l\n",
    "    -- Match on code\n",
    "    USING (code)\n",
    "  -- Join with currencies (alias as c2)\n",
    "  FULL JOIN currencies AS c2\n",
    "    -- Match on code\n",
    "    USING (code)\n",
    "-- Where region like Melanesia and Micronesia\n",
    "WHERE region LIKE 'M%esia';\n",
    "```"
   ]
  },
  {
   "cell_type": "markdown",
   "metadata": {},
   "source": [
    "- Create a CROSS JOIN with cities AS c on the left and languages AS l on the right.\n",
    "- Make use of LIKE and Hyder% to choose Hyderabad in both countries.\n",
    "- Select only the city name AS city and language name AS language."
   ]
  },
  {
   "cell_type": "markdown",
   "metadata": {},
   "source": [
    "```\n",
    "-- Select fields\n",
    "SELECT c.name AS city, l.name AS language\n",
    "-- From cities (alias as c)\n",
    "FROM cities AS c        \n",
    "  -- Join to languages (alias as l)\n",
    "  CROSS JOIN languages AS l\n",
    "-- Where c.name like Hyderabad\n",
    "WHERE c.name LIKE 'Hyder%';\n",
    "```"
   ]
  },
  {
   "cell_type": "markdown",
   "metadata": {},
   "source": [
    "- Use an INNER JOIN instead of a CROSS JOIN. Think about what the difference will be in the results for this INNER JOIN result and the one for the CROSS JOIN."
   ]
  },
  {
   "cell_type": "markdown",
   "metadata": {},
   "source": [
    "```\n",
    "-- Select fields\n",
    "SELECT c.name AS city, l.name AS language\n",
    "-- From cities (alias as c)\n",
    "FROM cities AS c\n",
    "  -- Join to languages (alias as l)\n",
    "  INNER JOIN languages AS l\n",
    "    -- Match on country code\n",
    "    ON c.country_code = l.code\n",
    "-- Where c.name like Hyderabad\n",
    "WHERE c.name LIKE 'Hyder%';\n",
    "```"
   ]
  },
  {
   "cell_type": "markdown",
   "metadata": {},
   "source": [
    "- Select country name AS country, region, and life expectancy AS life_exp.\n",
    "- Make sure to use LEFT JOIN, WHERE, ORDER BY, and LIMIT."
   ]
  },
  {
   "cell_type": "markdown",
   "metadata": {},
   "source": [
    "```\n",
    "-- Select fields\n",
    "SELECT c.name AS country, region, life_expectancy AS life_exp\n",
    "-- From countries (alias as c)\n",
    "FROM countries AS c\n",
    "  -- Join to populations (alias as p)\n",
    "  LEFT JOIN populations AS p\n",
    "    -- Match on country code\n",
    "    ON c.code = p.country_code\n",
    "-- Focus on 2010\n",
    "WHERE year = 2010\n",
    "-- Order by life_exp\n",
    "ORDER BY life_exp\n",
    "-- Limit to 5 records\n",
    "LIMIT 5\n",
    "```"
   ]
  }
 ],
 "metadata": {
  "interpreter": {
   "hash": "1e949e87132dd83f1a7623eb88007e3532b03b66b77111be347aa4a383049722"
  },
  "kernelspec": {
   "display_name": "Python 3.8.11 ('env_py')",
   "language": "python",
   "name": "python3"
  },
  "language_info": {
   "name": "python",
   "version": "3.8.11"
  },
  "orig_nbformat": 4
 },
 "nbformat": 4,
 "nbformat_minor": 2
}
